{
 "cells": [
  {
   "cell_type": "markdown",
   "metadata": {},
   "source": [
    "### Investigation - Attempt 1\n",
    "\n",
    "Looking for nice statistical patterns or distributions of data, using raw data from the CSO. \n",
    "\n",
    "This is just a rough investigation, as I have not finalized my intentions for this project."
   ]
  },
  {
   "cell_type": "code",
   "execution_count": 2,
   "metadata": {},
   "outputs": [],
   "source": [
    "import pandas as pd\n",
    "import numpy as np\n",
    "import matplotlib.pyplot as plt\n",
    "import seaborn as sns"
   ]
  },
  {
   "cell_type": "markdown",
   "metadata": {},
   "source": [
    "### Investigation - SEC Data"
   ]
  },
  {
   "cell_type": "markdown",
   "metadata": {},
   "source": [
    "#### Leaving Cert Ordinary Level Maths"
   ]
  },
  {
   "cell_type": "markdown",
   "metadata": {},
   "source": [
    "I put some of the unwieldy data into a csv file. 2018 Leaving Cert Higher, Ordinary and Foundation Level results by gender, in Maths and English, are printed and investigated below. "
   ]
  },
  {
   "cell_type": "code",
   "execution_count": 20,
   "metadata": {},
   "outputs": [
    {
     "data": {
      "text/html": [
       "<div>\n",
       "<style scoped>\n",
       "    .dataframe tbody tr th:only-of-type {\n",
       "        vertical-align: middle;\n",
       "    }\n",
       "\n",
       "    .dataframe tbody tr th {\n",
       "        vertical-align: top;\n",
       "    }\n",
       "\n",
       "    .dataframe thead th {\n",
       "        text-align: right;\n",
       "    }\n",
       "</style>\n",
       "<table border=\"1\" class=\"dataframe\">\n",
       "  <thead>\n",
       "    <tr style=\"text-align: right;\">\n",
       "      <th></th>\n",
       "      <th>Grade</th>\n",
       "      <th>Level</th>\n",
       "      <th>2018-total-maths</th>\n",
       "      <th>2018-female-maths</th>\n",
       "      <th>2018-male-maths</th>\n",
       "      <th>2018-total-eng</th>\n",
       "      <th>2018-female-eng</th>\n",
       "      <th>2018-male-eng</th>\n",
       "    </tr>\n",
       "  </thead>\n",
       "  <tbody>\n",
       "    <tr>\n",
       "      <th>8</th>\n",
       "      <td>1</td>\n",
       "      <td>O</td>\n",
       "      <td>482</td>\n",
       "      <td>314</td>\n",
       "      <td>168</td>\n",
       "      <td>214.0</td>\n",
       "      <td>123.0</td>\n",
       "      <td>91.0</td>\n",
       "    </tr>\n",
       "    <tr>\n",
       "      <th>9</th>\n",
       "      <td>2</td>\n",
       "      <td>O</td>\n",
       "      <td>3392</td>\n",
       "      <td>1979</td>\n",
       "      <td>1413</td>\n",
       "      <td>1190.0</td>\n",
       "      <td>634.0</td>\n",
       "      <td>556.0</td>\n",
       "    </tr>\n",
       "    <tr>\n",
       "      <th>10</th>\n",
       "      <td>3</td>\n",
       "      <td>O</td>\n",
       "      <td>6484</td>\n",
       "      <td>3524</td>\n",
       "      <td>2960</td>\n",
       "      <td>3086.0</td>\n",
       "      <td>1402.0</td>\n",
       "      <td>1684.0</td>\n",
       "    </tr>\n",
       "    <tr>\n",
       "      <th>11</th>\n",
       "      <td>4</td>\n",
       "      <td>O</td>\n",
       "      <td>7551</td>\n",
       "      <td>3981</td>\n",
       "      <td>3570</td>\n",
       "      <td>4163.0</td>\n",
       "      <td>1707.0</td>\n",
       "      <td>2456.0</td>\n",
       "    </tr>\n",
       "    <tr>\n",
       "      <th>12</th>\n",
       "      <td>5</td>\n",
       "      <td>O</td>\n",
       "      <td>6348</td>\n",
       "      <td>3260</td>\n",
       "      <td>3088</td>\n",
       "      <td>3328.0</td>\n",
       "      <td>1194.0</td>\n",
       "      <td>2134.0</td>\n",
       "    </tr>\n",
       "    <tr>\n",
       "      <th>13</th>\n",
       "      <td>6</td>\n",
       "      <td>O</td>\n",
       "      <td>4062</td>\n",
       "      <td>1948</td>\n",
       "      <td>2114</td>\n",
       "      <td>1811.0</td>\n",
       "      <td>539.0</td>\n",
       "      <td>1272.0</td>\n",
       "    </tr>\n",
       "    <tr>\n",
       "      <th>14</th>\n",
       "      <td>7</td>\n",
       "      <td>O</td>\n",
       "      <td>1870</td>\n",
       "      <td>868</td>\n",
       "      <td>1002</td>\n",
       "      <td>667.0</td>\n",
       "      <td>172.0</td>\n",
       "      <td>495.0</td>\n",
       "    </tr>\n",
       "    <tr>\n",
       "      <th>15</th>\n",
       "      <td>8</td>\n",
       "      <td>O</td>\n",
       "      <td>1147</td>\n",
       "      <td>436</td>\n",
       "      <td>711</td>\n",
       "      <td>294.0</td>\n",
       "      <td>53.0</td>\n",
       "      <td>241.0</td>\n",
       "    </tr>\n",
       "  </tbody>\n",
       "</table>\n",
       "</div>"
      ],
      "text/plain": [
       "    Grade Level  2018-total-maths  2018-female-maths  2018-male-maths  \\\n",
       "8       1     O               482                314              168   \n",
       "9       2     O              3392               1979             1413   \n",
       "10      3     O              6484               3524             2960   \n",
       "11      4     O              7551               3981             3570   \n",
       "12      5     O              6348               3260             3088   \n",
       "13      6     O              4062               1948             2114   \n",
       "14      7     O              1870                868             1002   \n",
       "15      8     O              1147                436              711   \n",
       "\n",
       "    2018-total-eng  2018-female-eng  2018-male-eng  \n",
       "8            214.0            123.0           91.0  \n",
       "9           1190.0            634.0          556.0  \n",
       "10          3086.0           1402.0         1684.0  \n",
       "11          4163.0           1707.0         2456.0  \n",
       "12          3328.0           1194.0         2134.0  \n",
       "13          1811.0            539.0         1272.0  \n",
       "14           667.0            172.0          495.0  \n",
       "15           294.0             53.0          241.0  "
      ]
     },
     "execution_count": 20,
     "metadata": {},
     "output_type": "execute_result"
    }
   ],
   "source": [
    "df = pd.read_csv('data/2018lc-math-english.csv')\n",
    "y = df.loc[8:15]\n",
    "y"
   ]
  },
  {
   "cell_type": "code",
   "execution_count": 21,
   "metadata": {},
   "outputs": [],
   "source": [
    "hge = pd.DataFrame(y.loc[:,'2018-female-maths'])\n",
    "hme = pd.DataFrame(y.loc[:,'2018-male-maths'])\n",
    "grade = np.array(y.loc[:, 'Grade'])"
   ]
  },
  {
   "cell_type": "code",
   "execution_count": 22,
   "metadata": {},
   "outputs": [
    {
     "data": {
      "image/png": "[encoded data removed]",
      "text/plain": [
       "<Figure size 432x288 with 1 Axes>"
      ]
     },
     "metadata": {},
     "output_type": "display_data"
    }
   ],
   "source": [
    "plt.title('Maths Results')\n",
    "plt.scatter(grade, hge, label = 'Ordinary Level Girls')\n",
    "plt.scatter(grade, hme, label = 'Ordinary Level Boys')\n",
    "plt.legend()\n",
    "plt.show()"
   ]
  },
  {
   "cell_type": "code",
   "execution_count": 23,
   "metadata": {},
   "outputs": [
    {
     "data": {
      "text/plain": [
       "2018-female-maths    16310\n",
       "dtype: int64"
      ]
     },
     "execution_count": 23,
     "metadata": {},
     "output_type": "execute_result"
    }
   ],
   "source": [
    "totalgirl = np.sum(hge)\n",
    "totalgirl"
   ]
  },
  {
   "cell_type": "code",
   "execution_count": 24,
   "metadata": {},
   "outputs": [
    {
     "data": {
      "text/plain": [
       "2018-male-maths    15026\n",
       "dtype: int64"
      ]
     },
     "execution_count": 24,
     "metadata": {},
     "output_type": "execute_result"
    }
   ],
   "source": [
    "totalboy = np.sum(hme)\n",
    "totalboy"
   ]
  },
  {
   "cell_type": "markdown",
   "metadata": {},
   "source": [
    "More girls than boys take HL English and more achieve Grades 1 - 5. Is this as a result of the fact there's more girls let's look at percentages. "
   ]
  },
  {
   "cell_type": "code",
   "execution_count": 32,
   "metadata": {},
   "outputs": [],
   "source": [
    "bestpupil = y.loc[:, '2018-total-maths']\n",
    "sum_total = np.sum(total)"
   ]
  },
  {
   "cell_type": "code",
   "execution_count": 33,
   "metadata": {},
   "outputs": [
    {
     "name": "stdout",
     "output_type": "stream",
     "text": [
      "8      1.538167\n",
      "9     10.824611\n",
      "10    20.691856\n",
      "11    24.096885\n",
      "12    20.257850\n",
      "13    12.962727\n",
      "14     5.967577\n",
      "15     3.660327\n",
      "Name: 2018-total-maths, dtype: float64\n"
     ]
    }
   ],
   "source": [
    "print(bestpupil/sum_total*100)"
   ]
  },
  {
   "cell_type": "code",
   "execution_count": 62,
   "metadata": {},
   "outputs": [
    {
     "name": "stdout",
     "output_type": "stream",
     "text": [
      "Percentage of Students Awarded an O4:  57.151519\n"
     ]
    }
   ],
   "source": [
    "print('Percentage of Students Awarded an O4: ',1.538167+10.824611+20.691856+24.096885)"
   ]
  },
  {
   "cell_type": "code",
   "execution_count": 27,
   "metadata": {},
   "outputs": [
    {
     "name": "stdout",
     "output_type": "stream",
     "text": [
      "    2018-female-maths\n",
      "8            1.925199\n",
      "9           12.133660\n",
      "10          21.606376\n",
      "11          24.408338\n",
      "12          19.987738\n",
      "13          11.943593\n",
      "14           5.321888\n",
      "15           2.673207\n"
     ]
    }
   ],
   "source": [
    "x = np.arange(0, 8)\n",
    "bestgirl = (hge.iloc[x])\n",
    "print(bestgirl/totalgirl*100)"
   ]
  },
  {
   "cell_type": "code",
   "execution_count": 63,
   "metadata": {},
   "outputs": [
    {
     "name": "stdout",
     "output_type": "stream",
     "text": [
      "Percentage of Female Students Awarded an O4:  60.073573\n"
     ]
    }
   ],
   "source": [
    "print('Percentage of Female Students Awarded an O4: ', 1.925199+12.133660+21.606376+24.408338)"
   ]
  },
  {
   "cell_type": "code",
   "execution_count": 43,
   "metadata": {},
   "outputs": [
    {
     "name": "stdout",
     "output_type": "stream",
     "text": [
      "    2018-male-maths\n",
      "8          1.118062\n",
      "9          9.403700\n",
      "10        19.699188\n",
      "11        23.758818\n",
      "12        20.551045\n",
      "13        14.068947\n",
      "14         6.668441\n",
      "15         4.731798\n"
     ]
    }
   ],
   "source": [
    "bestboy = (hme.iloc[x])\n",
    "print(bestboy/totalboy*100)"
   ]
  },
  {
   "cell_type": "code",
   "execution_count": 61,
   "metadata": {},
   "outputs": [
    {
     "name": "stdout",
     "output_type": "stream",
     "text": [
      "Percentage of Students Awarded an O4:  53.97976800000001\n"
     ]
    }
   ],
   "source": [
    "print('Percentage of Students Awarded an O4: ', 1.118062+9.403700+19.699188+23.758818)"
   ]
  },
  {
   "cell_type": "code",
   "execution_count": 41,
   "metadata": {},
   "outputs": [
    {
     "data": {
      "text/plain": [
       "array([1, 2, 3, 4, 5, 6, 7, 8])"
      ]
     },
     "execution_count": 41,
     "metadata": {},
     "output_type": "execute_result"
    }
   ],
   "source": [
    "grade_nums = np.arange(1, 9)\n",
    "grade_nums"
   ]
  },
  {
   "cell_type": "markdown",
   "metadata": {},
   "source": [
    "As the data I have here, is ordinal and categorical, I can't calculate the mean. From my percentages above, and the fact my data is ordered by descending grade awards, I can see that the median grade for both female and male is an O4.\n",
    "\n",
    "In this year approximately 57% of students were awarded an O4 or higher grade, 60% of female studnets and 54% of male students. "
   ]
  },
  {
   "cell_type": "markdown",
   "metadata": {},
   "source": [
    "From my research, I know that assessment grades are often normally distributed. If I assume that the set of Leaving Cert Results is normally distributed, then I would expect my mean, median and mode to have very similar values. In a perfect normal distribution they would be the same, but that would be unlikely to be the case here. \n"
   ]
  },
  {
   "cell_type": "markdown",
   "metadata": {},
   "source": [
    "## Simulating Data"
   ]
  },
  {
   "cell_type": "code",
   "execution_count": 163,
   "metadata": {},
   "outputs": [],
   "source": [
    "# Generate random female results with mean in the high O4 interval\n",
    "sim_girls = np.round(np.random.normal(340, 110, 100), decimals = 0)\n",
    "sim_girls = np.clip(sim_girls, 0, 600)\n",
    "#Generate random male results with mean in the low O4 interval\n",
    "sim_boys = np.round(np.random.normal(330, 110, 100), decimals = 0)\n",
    "sim_boys = np.clip(sim_boys, 0, 600)"
   ]
  },
  {
   "cell_type": "code",
   "execution_count": 164,
   "metadata": {},
   "outputs": [
    {
     "data": {
      "image/png": "[encoded data removed]",
      "text/plain": [
       "<Figure size 432x288 with 1 Axes>"
      ]
     },
     "metadata": {},
     "output_type": "display_data"
    }
   ],
   "source": [
    "#Graphically display data to look for errors\n",
    "#Such as results over 600 or under 0\n",
    "# No fails etc.\n",
    "sns.distplot(sim_girls);\n",
    "sns.distplot(sim_boys);"
   ]
  },
  {
   "cell_type": "code",
   "execution_count": 165,
   "metadata": {},
   "outputs": [],
   "source": [
    "#Adding simulated data to data frame, and then combining in same column\n",
    "df = pd.DataFrame(sim_girls, columns=['Result'])\n",
    "df2 = pd.DataFrame(sim_boys, columns=['Result']);\n",
    "df = df.append(df2, ignore_index=True)"
   ]
  },
  {
   "cell_type": "code",
   "execution_count": 166,
   "metadata": {},
   "outputs": [],
   "source": [
    "# Generating dfs with 100 repeated strings, first female, then male\n",
    "string_female = pd.DataFrame(['female']*100)\n",
    "string_male = pd.DataFrame(['male']*100)\n",
    "# Combining both dfs to the same df column\n",
    "gender = string_female.append(string_male, ignore_index=True)"
   ]
  },
  {
   "cell_type": "code",
   "execution_count": 167,
   "metadata": {},
   "outputs": [],
   "source": [
    "# Adding gender col to existing df\n",
    "df['Gender'] = gender"
   ]
  },
  {
   "cell_type": "code",
   "execution_count": 168,
   "metadata": {},
   "outputs": [
    {
     "data": {
      "text/html": [
       "<div>\n",
       "<style scoped>\n",
       "    .dataframe tbody tr th:only-of-type {\n",
       "        vertical-align: middle;\n",
       "    }\n",
       "\n",
       "    .dataframe tbody tr th {\n",
       "        vertical-align: top;\n",
       "    }\n",
       "\n",
       "    .dataframe thead th {\n",
       "        text-align: right;\n",
       "    }\n",
       "</style>\n",
       "<table border=\"1\" class=\"dataframe\">\n",
       "  <thead>\n",
       "    <tr style=\"text-align: right;\">\n",
       "      <th></th>\n",
       "      <th>Result</th>\n",
       "      <th>Gender</th>\n",
       "    </tr>\n",
       "  </thead>\n",
       "  <tbody>\n",
       "    <tr>\n",
       "      <th>0</th>\n",
       "      <td>442.0</td>\n",
       "      <td>female</td>\n",
       "    </tr>\n",
       "    <tr>\n",
       "      <th>1</th>\n",
       "      <td>489.0</td>\n",
       "      <td>female</td>\n",
       "    </tr>\n",
       "    <tr>\n",
       "      <th>2</th>\n",
       "      <td>92.0</td>\n",
       "      <td>female</td>\n",
       "    </tr>\n",
       "    <tr>\n",
       "      <th>3</th>\n",
       "      <td>284.0</td>\n",
       "      <td>female</td>\n",
       "    </tr>\n",
       "    <tr>\n",
       "      <th>4</th>\n",
       "      <td>334.0</td>\n",
       "      <td>female</td>\n",
       "    </tr>\n",
       "    <tr>\n",
       "      <th>5</th>\n",
       "      <td>256.0</td>\n",
       "      <td>female</td>\n",
       "    </tr>\n",
       "    <tr>\n",
       "      <th>6</th>\n",
       "      <td>288.0</td>\n",
       "      <td>female</td>\n",
       "    </tr>\n",
       "    <tr>\n",
       "      <th>7</th>\n",
       "      <td>548.0</td>\n",
       "      <td>female</td>\n",
       "    </tr>\n",
       "    <tr>\n",
       "      <th>8</th>\n",
       "      <td>545.0</td>\n",
       "      <td>female</td>\n",
       "    </tr>\n",
       "    <tr>\n",
       "      <th>9</th>\n",
       "      <td>324.0</td>\n",
       "      <td>female</td>\n",
       "    </tr>\n",
       "    <tr>\n",
       "      <th>10</th>\n",
       "      <td>384.0</td>\n",
       "      <td>female</td>\n",
       "    </tr>\n",
       "    <tr>\n",
       "      <th>11</th>\n",
       "      <td>396.0</td>\n",
       "      <td>female</td>\n",
       "    </tr>\n",
       "    <tr>\n",
       "      <th>12</th>\n",
       "      <td>457.0</td>\n",
       "      <td>female</td>\n",
       "    </tr>\n",
       "    <tr>\n",
       "      <th>13</th>\n",
       "      <td>401.0</td>\n",
       "      <td>female</td>\n",
       "    </tr>\n",
       "    <tr>\n",
       "      <th>14</th>\n",
       "      <td>149.0</td>\n",
       "      <td>female</td>\n",
       "    </tr>\n",
       "    <tr>\n",
       "      <th>15</th>\n",
       "      <td>319.0</td>\n",
       "      <td>female</td>\n",
       "    </tr>\n",
       "    <tr>\n",
       "      <th>16</th>\n",
       "      <td>469.0</td>\n",
       "      <td>female</td>\n",
       "    </tr>\n",
       "    <tr>\n",
       "      <th>17</th>\n",
       "      <td>264.0</td>\n",
       "      <td>female</td>\n",
       "    </tr>\n",
       "    <tr>\n",
       "      <th>18</th>\n",
       "      <td>338.0</td>\n",
       "      <td>female</td>\n",
       "    </tr>\n",
       "    <tr>\n",
       "      <th>19</th>\n",
       "      <td>199.0</td>\n",
       "      <td>female</td>\n",
       "    </tr>\n",
       "    <tr>\n",
       "      <th>20</th>\n",
       "      <td>377.0</td>\n",
       "      <td>female</td>\n",
       "    </tr>\n",
       "    <tr>\n",
       "      <th>21</th>\n",
       "      <td>344.0</td>\n",
       "      <td>female</td>\n",
       "    </tr>\n",
       "    <tr>\n",
       "      <th>22</th>\n",
       "      <td>340.0</td>\n",
       "      <td>female</td>\n",
       "    </tr>\n",
       "    <tr>\n",
       "      <th>23</th>\n",
       "      <td>530.0</td>\n",
       "      <td>female</td>\n",
       "    </tr>\n",
       "    <tr>\n",
       "      <th>24</th>\n",
       "      <td>464.0</td>\n",
       "      <td>female</td>\n",
       "    </tr>\n",
       "    <tr>\n",
       "      <th>25</th>\n",
       "      <td>277.0</td>\n",
       "      <td>female</td>\n",
       "    </tr>\n",
       "    <tr>\n",
       "      <th>26</th>\n",
       "      <td>333.0</td>\n",
       "      <td>female</td>\n",
       "    </tr>\n",
       "    <tr>\n",
       "      <th>27</th>\n",
       "      <td>288.0</td>\n",
       "      <td>female</td>\n",
       "    </tr>\n",
       "    <tr>\n",
       "      <th>28</th>\n",
       "      <td>272.0</td>\n",
       "      <td>female</td>\n",
       "    </tr>\n",
       "    <tr>\n",
       "      <th>29</th>\n",
       "      <td>423.0</td>\n",
       "      <td>female</td>\n",
       "    </tr>\n",
       "    <tr>\n",
       "      <th>...</th>\n",
       "      <td>...</td>\n",
       "      <td>...</td>\n",
       "    </tr>\n",
       "    <tr>\n",
       "      <th>170</th>\n",
       "      <td>326.0</td>\n",
       "      <td>male</td>\n",
       "    </tr>\n",
       "    <tr>\n",
       "      <th>171</th>\n",
       "      <td>446.0</td>\n",
       "      <td>male</td>\n",
       "    </tr>\n",
       "    <tr>\n",
       "      <th>172</th>\n",
       "      <td>489.0</td>\n",
       "      <td>male</td>\n",
       "    </tr>\n",
       "    <tr>\n",
       "      <th>173</th>\n",
       "      <td>343.0</td>\n",
       "      <td>male</td>\n",
       "    </tr>\n",
       "    <tr>\n",
       "      <th>174</th>\n",
       "      <td>431.0</td>\n",
       "      <td>male</td>\n",
       "    </tr>\n",
       "    <tr>\n",
       "      <th>175</th>\n",
       "      <td>372.0</td>\n",
       "      <td>male</td>\n",
       "    </tr>\n",
       "    <tr>\n",
       "      <th>176</th>\n",
       "      <td>14.0</td>\n",
       "      <td>male</td>\n",
       "    </tr>\n",
       "    <tr>\n",
       "      <th>177</th>\n",
       "      <td>298.0</td>\n",
       "      <td>male</td>\n",
       "    </tr>\n",
       "    <tr>\n",
       "      <th>178</th>\n",
       "      <td>276.0</td>\n",
       "      <td>male</td>\n",
       "    </tr>\n",
       "    <tr>\n",
       "      <th>179</th>\n",
       "      <td>32.0</td>\n",
       "      <td>male</td>\n",
       "    </tr>\n",
       "    <tr>\n",
       "      <th>180</th>\n",
       "      <td>451.0</td>\n",
       "      <td>male</td>\n",
       "    </tr>\n",
       "    <tr>\n",
       "      <th>181</th>\n",
       "      <td>255.0</td>\n",
       "      <td>male</td>\n",
       "    </tr>\n",
       "    <tr>\n",
       "      <th>182</th>\n",
       "      <td>297.0</td>\n",
       "      <td>male</td>\n",
       "    </tr>\n",
       "    <tr>\n",
       "      <th>183</th>\n",
       "      <td>313.0</td>\n",
       "      <td>male</td>\n",
       "    </tr>\n",
       "    <tr>\n",
       "      <th>184</th>\n",
       "      <td>261.0</td>\n",
       "      <td>male</td>\n",
       "    </tr>\n",
       "    <tr>\n",
       "      <th>185</th>\n",
       "      <td>372.0</td>\n",
       "      <td>male</td>\n",
       "    </tr>\n",
       "    <tr>\n",
       "      <th>186</th>\n",
       "      <td>524.0</td>\n",
       "      <td>male</td>\n",
       "    </tr>\n",
       "    <tr>\n",
       "      <th>187</th>\n",
       "      <td>240.0</td>\n",
       "      <td>male</td>\n",
       "    </tr>\n",
       "    <tr>\n",
       "      <th>188</th>\n",
       "      <td>277.0</td>\n",
       "      <td>male</td>\n",
       "    </tr>\n",
       "    <tr>\n",
       "      <th>189</th>\n",
       "      <td>312.0</td>\n",
       "      <td>male</td>\n",
       "    </tr>\n",
       "    <tr>\n",
       "      <th>190</th>\n",
       "      <td>494.0</td>\n",
       "      <td>male</td>\n",
       "    </tr>\n",
       "    <tr>\n",
       "      <th>191</th>\n",
       "      <td>349.0</td>\n",
       "      <td>male</td>\n",
       "    </tr>\n",
       "    <tr>\n",
       "      <th>192</th>\n",
       "      <td>250.0</td>\n",
       "      <td>male</td>\n",
       "    </tr>\n",
       "    <tr>\n",
       "      <th>193</th>\n",
       "      <td>270.0</td>\n",
       "      <td>male</td>\n",
       "    </tr>\n",
       "    <tr>\n",
       "      <th>194</th>\n",
       "      <td>320.0</td>\n",
       "      <td>male</td>\n",
       "    </tr>\n",
       "    <tr>\n",
       "      <th>195</th>\n",
       "      <td>256.0</td>\n",
       "      <td>male</td>\n",
       "    </tr>\n",
       "    <tr>\n",
       "      <th>196</th>\n",
       "      <td>393.0</td>\n",
       "      <td>male</td>\n",
       "    </tr>\n",
       "    <tr>\n",
       "      <th>197</th>\n",
       "      <td>506.0</td>\n",
       "      <td>male</td>\n",
       "    </tr>\n",
       "    <tr>\n",
       "      <th>198</th>\n",
       "      <td>341.0</td>\n",
       "      <td>male</td>\n",
       "    </tr>\n",
       "    <tr>\n",
       "      <th>199</th>\n",
       "      <td>372.0</td>\n",
       "      <td>male</td>\n",
       "    </tr>\n",
       "  </tbody>\n",
       "</table>\n",
       "<p>200 rows × 2 columns</p>\n",
       "</div>"
      ],
      "text/plain": [
       "     Result  Gender\n",
       "0     442.0  female\n",
       "1     489.0  female\n",
       "2      92.0  female\n",
       "3     284.0  female\n",
       "4     334.0  female\n",
       "5     256.0  female\n",
       "6     288.0  female\n",
       "7     548.0  female\n",
       "8     545.0  female\n",
       "9     324.0  female\n",
       "10    384.0  female\n",
       "11    396.0  female\n",
       "12    457.0  female\n",
       "13    401.0  female\n",
       "14    149.0  female\n",
       "15    319.0  female\n",
       "16    469.0  female\n",
       "17    264.0  female\n",
       "18    338.0  female\n",
       "19    199.0  female\n",
       "20    377.0  female\n",
       "21    344.0  female\n",
       "22    340.0  female\n",
       "23    530.0  female\n",
       "24    464.0  female\n",
       "25    277.0  female\n",
       "26    333.0  female\n",
       "27    288.0  female\n",
       "28    272.0  female\n",
       "29    423.0  female\n",
       "..      ...     ...\n",
       "170   326.0    male\n",
       "171   446.0    male\n",
       "172   489.0    male\n",
       "173   343.0    male\n",
       "174   431.0    male\n",
       "175   372.0    male\n",
       "176    14.0    male\n",
       "177   298.0    male\n",
       "178   276.0    male\n",
       "179    32.0    male\n",
       "180   451.0    male\n",
       "181   255.0    male\n",
       "182   297.0    male\n",
       "183   313.0    male\n",
       "184   261.0    male\n",
       "185   372.0    male\n",
       "186   524.0    male\n",
       "187   240.0    male\n",
       "188   277.0    male\n",
       "189   312.0    male\n",
       "190   494.0    male\n",
       "191   349.0    male\n",
       "192   250.0    male\n",
       "193   270.0    male\n",
       "194   320.0    male\n",
       "195   256.0    male\n",
       "196   393.0    male\n",
       "197   506.0    male\n",
       "198   341.0    male\n",
       "199   372.0    male\n",
       "\n",
       "[200 rows x 2 columns]"
      ]
     },
     "execution_count": 168,
     "metadata": {},
     "output_type": "execute_result"
    }
   ],
   "source": [
    "df"
   ]
  },
  {
   "cell_type": "code",
   "execution_count": null,
   "metadata": {},
   "outputs": [],
   "source": []
  }
 ],
 "metadata": {
  "kernelspec": {
   "display_name": "Python 3",
   "language": "python",
   "name": "python3"
  },
  "language_info": {
   "codemirror_mode": {
    "name": "ipython",
    "version": 3
   },
   "file_extension": ".py",
   "mimetype": "text/x-python",
   "name": "python",
   "nbconvert_exporter": "python",
   "pygments_lexer": "ipython3",
   "version": "3.6.5"
  }
 },
 "nbformat": 4,
 "nbformat_minor": 2
}

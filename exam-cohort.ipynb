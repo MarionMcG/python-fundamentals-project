{
 "cells": [
  {
   "cell_type": "markdown",
   "metadata": {},
   "source": [
    "![SEC logo](https://github.com/MarionMcG/Images/blob/master/sec.jpeg?raw=true)"
   ]
  },
  {
   "cell_type": "markdown",
   "metadata": {},
   "source": [
    "# Dataset Simulation"
   ]
  },
  {
   "cell_type": "code",
   "execution_count": 3,
   "metadata": {
    "scrolled": true
   },
   "outputs": [],
   "source": [
    "import pandas as pd #For Data Manipulation\n",
    "import numpy as np #For Numerical calculations\n",
    "import matplotlib.pyplot as plt #For graphical representatibons\n",
    "import seaborn as sns #For graphical representations\n",
    "%matplotlib inline"
   ]
  },
  {
   "cell_type": "markdown",
   "metadata": {},
   "source": [
    "## Investigating SEC Data"
   ]
  },
  {
   "cell_type": "markdown",
   "metadata": {},
   "source": [
    "I took some summary statistics from the State Examinations Commission and put that data into a CSV file. This file contains the 2018 Leaving Cert Higher, Ordinary and Foundation Level results by gender, in Maths and English. I initially compared results in different subjects by gender, before settling on Leaving Cert Ordinary Level Maths. \n",
    "\n",
    "I am very familiar with the Leaving Cert Maths course and the factors influencing students attainment. I plan to investigate these factors, and simulate data to determine if my experiences and current research can be modelled effectively."
   ]
  },
  {
   "cell_type": "code",
   "execution_count": 3,
   "metadata": {
    "scrolled": true
   },
   "outputs": [
    {
     "data": {
      "text/html": [
       "<div>\n",
       "<style scoped>\n",
       "    .dataframe tbody tr th:only-of-type {\n",
       "        vertical-align: middle;\n",
       "    }\n",
       "\n",
       "    .dataframe tbody tr th {\n",
       "        vertical-align: top;\n",
       "    }\n",
       "\n",
       "    .dataframe thead th {\n",
       "        text-align: right;\n",
       "    }\n",
       "</style>\n",
       "<table border=\"1\" class=\"dataframe\">\n",
       "  <thead>\n",
       "    <tr style=\"text-align: right;\">\n",
       "      <th></th>\n",
       "      <th>Grade</th>\n",
       "      <th>Level</th>\n",
       "      <th>2018-total-maths</th>\n",
       "      <th>2018-female-maths</th>\n",
       "      <th>2018-male-maths</th>\n",
       "    </tr>\n",
       "  </thead>\n",
       "  <tbody>\n",
       "    <tr>\n",
       "      <th>1</th>\n",
       "      <td>1</td>\n",
       "      <td>O</td>\n",
       "      <td>482</td>\n",
       "      <td>314</td>\n",
       "      <td>168</td>\n",
       "    </tr>\n",
       "    <tr>\n",
       "      <th>2</th>\n",
       "      <td>2</td>\n",
       "      <td>O</td>\n",
       "      <td>3392</td>\n",
       "      <td>1979</td>\n",
       "      <td>1413</td>\n",
       "    </tr>\n",
       "    <tr>\n",
       "      <th>3</th>\n",
       "      <td>3</td>\n",
       "      <td>O</td>\n",
       "      <td>6484</td>\n",
       "      <td>3524</td>\n",
       "      <td>2960</td>\n",
       "    </tr>\n",
       "    <tr>\n",
       "      <th>4</th>\n",
       "      <td>4</td>\n",
       "      <td>O</td>\n",
       "      <td>7551</td>\n",
       "      <td>3981</td>\n",
       "      <td>3570</td>\n",
       "    </tr>\n",
       "    <tr>\n",
       "      <th>5</th>\n",
       "      <td>5</td>\n",
       "      <td>O</td>\n",
       "      <td>6348</td>\n",
       "      <td>3260</td>\n",
       "      <td>3088</td>\n",
       "    </tr>\n",
       "    <tr>\n",
       "      <th>6</th>\n",
       "      <td>6</td>\n",
       "      <td>O</td>\n",
       "      <td>4062</td>\n",
       "      <td>1948</td>\n",
       "      <td>2114</td>\n",
       "    </tr>\n",
       "    <tr>\n",
       "      <th>7</th>\n",
       "      <td>7</td>\n",
       "      <td>O</td>\n",
       "      <td>1870</td>\n",
       "      <td>868</td>\n",
       "      <td>1002</td>\n",
       "    </tr>\n",
       "    <tr>\n",
       "      <th>8</th>\n",
       "      <td>8</td>\n",
       "      <td>O</td>\n",
       "      <td>1147</td>\n",
       "      <td>436</td>\n",
       "      <td>711</td>\n",
       "    </tr>\n",
       "  </tbody>\n",
       "</table>\n",
       "</div>"
      ],
      "text/plain": [
       "   Grade Level  2018-total-maths  2018-female-maths  2018-male-maths\n",
       "1      1     O               482                314              168\n",
       "2      2     O              3392               1979             1413\n",
       "3      3     O              6484               3524             2960\n",
       "4      4     O              7551               3981             3570\n",
       "5      5     O              6348               3260             3088\n",
       "6      6     O              4062               1948             2114\n",
       "7      7     O              1870                868             1002\n",
       "8      8     O              1147                436              711"
      ]
     },
     "execution_count": 3,
     "metadata": {},
     "output_type": "execute_result"
    }
   ],
   "source": [
    "#Read SEC Data\n",
    "df = pd.read_csv('data/2018lc-math-english.csv')\n",
    "#Select Rows 8 to 15 and Columns 0 to 5\n",
    "y = df.loc[8:15]\n",
    "y = y.iloc[:, 0:5]\n",
    "\n",
    "#Get rid of the existing index and replace with 1 to 9\n",
    "#Now the index will match grade categories \n",
    "y = y.reset_index(drop = True)\n",
    "y = y.set_index(np.arange(1, 9))\n",
    "y #Show df table"
   ]
  },
  {
   "cell_type": "code",
   "execution_count": 4,
   "metadata": {
    "scrolled": true
   },
   "outputs": [],
   "source": [
    "# Creating dfs for female and male students, and grades\n",
    "fem_mat = pd.DataFrame(y.loc[:,'2018-female-maths'])\n",
    "mal_mat = pd.DataFrame(y.loc[:,'2018-male-maths'])\n",
    "grade = np.array(y.loc[:, 'Grade'])"
   ]
  },
  {
   "cell_type": "code",
   "execution_count": 5,
   "metadata": {
    "scrolled": false
   },
   "outputs": [
    {
     "data": {
      "image/png": "[encoded data removed]",
      "text/plain": [
       "<Figure size 432x288 with 1 Axes>"
      ]
     },
     "metadata": {},
     "output_type": "display_data"
    }
   ],
   "source": [
    "#Plotting grades for boys and girls\n",
    "plt.title('Maths Results')\n",
    "plt.plot(grade, fem_mat, label = 'Ordinary Level Girls')\n",
    "plt.plot(grade, mal_mat, label = 'Ordinary Level Boys')\n",
    "plt.legend()\n",
    "plt.show()"
   ]
  },
  {
   "cell_type": "code",
   "execution_count": 6,
   "metadata": {
    "scrolled": true
   },
   "outputs": [
    {
     "name": "stdout",
     "output_type": "stream",
     "text": [
      "The total number of female candidates:  [16310]\n"
     ]
    }
   ],
   "source": [
    "# How many girls sat LCOL in 2018\n",
    "totalgirl = (np.sum(fem_mat)).tolist()\n",
    "print('The total number of female candidates: ', totalgirl)"
   ]
  },
  {
   "cell_type": "code",
   "execution_count": 7,
   "metadata": {
    "scrolled": true
   },
   "outputs": [
    {
     "name": "stdout",
     "output_type": "stream",
     "text": [
      "The total number of male candidates:  [15026]\n"
     ]
    }
   ],
   "source": [
    "# How many boys sat LCOL in 2018\n",
    "totalboy = (np.sum(mal_mat)).tolist()\n",
    "print('The total number of male candidates: ', totalboy)"
   ]
  },
  {
   "cell_type": "code",
   "execution_count": 8,
   "metadata": {
    "scrolled": true
   },
   "outputs": [
    {
     "name": "stdout",
     "output_type": "stream",
     "text": [
      "The total number of candidates:  31336\n"
     ]
    }
   ],
   "source": [
    "# Total number of LCOL candidates\n",
    "bestpupil = y.loc[:, '2018-total-maths']\n",
    "sum_total = np.sum(bestpupil)\n",
    "\n",
    "print('The total number of candidates: ', sum_total)"
   ]
  },
  {
   "cell_type": "code",
   "execution_count": 9,
   "metadata": {
    "scrolled": true
   },
   "outputs": [
    {
     "data": {
      "text/html": [
       "<div>\n",
       "<style scoped>\n",
       "    .dataframe tbody tr th:only-of-type {\n",
       "        vertical-align: middle;\n",
       "    }\n",
       "\n",
       "    .dataframe tbody tr th {\n",
       "        vertical-align: top;\n",
       "    }\n",
       "\n",
       "    .dataframe thead th {\n",
       "        text-align: right;\n",
       "    }\n",
       "</style>\n",
       "<table border=\"1\" class=\"dataframe\">\n",
       "  <thead>\n",
       "    <tr style=\"text-align: right;\">\n",
       "      <th></th>\n",
       "      <th>% of Candidates achieving each grade</th>\n",
       "    </tr>\n",
       "  </thead>\n",
       "  <tbody>\n",
       "    <tr>\n",
       "      <th>1</th>\n",
       "      <td>1.54</td>\n",
       "    </tr>\n",
       "    <tr>\n",
       "      <th>2</th>\n",
       "      <td>10.82</td>\n",
       "    </tr>\n",
       "    <tr>\n",
       "      <th>3</th>\n",
       "      <td>20.69</td>\n",
       "    </tr>\n",
       "    <tr>\n",
       "      <th>4</th>\n",
       "      <td>24.10</td>\n",
       "    </tr>\n",
       "    <tr>\n",
       "      <th>5</th>\n",
       "      <td>20.26</td>\n",
       "    </tr>\n",
       "    <tr>\n",
       "      <th>6</th>\n",
       "      <td>12.96</td>\n",
       "    </tr>\n",
       "    <tr>\n",
       "      <th>7</th>\n",
       "      <td>5.97</td>\n",
       "    </tr>\n",
       "    <tr>\n",
       "      <th>8</th>\n",
       "      <td>3.66</td>\n",
       "    </tr>\n",
       "  </tbody>\n",
       "</table>\n",
       "</div>"
      ],
      "text/plain": [
       "   % of Candidates achieving each grade\n",
       "1                                  1.54\n",
       "2                                 10.82\n",
       "3                                 20.69\n",
       "4                                 24.10\n",
       "5                                 20.26\n",
       "6                                 12.96\n",
       "7                                  5.97\n",
       "8                                  3.66"
      ]
     },
     "execution_count": 9,
     "metadata": {},
     "output_type": "execute_result"
    }
   ],
   "source": [
    "# Percentage of students achieving each grade\n",
    "all_percents = pd.DataFrame(np.round(bestpupil/sum_total*100, decimals = 2))\n",
    "c = pd.DataFrame(all_percents)\n",
    "c.rename(index=str, columns={\"2018-total-maths\": \"% of Candidates achieving each grade\"})\n",
    "#https://pandas.pydata.org/pandas-docs/stable/generated/pandas.DataFrame.rename.html"
   ]
  },
  {
   "cell_type": "code",
   "execution_count": 10,
   "metadata": {
    "scrolled": true
   },
   "outputs": [
    {
     "data": {
      "text/html": [
       "<div>\n",
       "<style scoped>\n",
       "    .dataframe tbody tr th:only-of-type {\n",
       "        vertical-align: middle;\n",
       "    }\n",
       "\n",
       "    .dataframe tbody tr th {\n",
       "        vertical-align: top;\n",
       "    }\n",
       "\n",
       "    .dataframe thead th {\n",
       "        text-align: right;\n",
       "    }\n",
       "</style>\n",
       "<table border=\"1\" class=\"dataframe\">\n",
       "  <thead>\n",
       "    <tr style=\"text-align: right;\">\n",
       "      <th></th>\n",
       "      <th>% of Females achieving each grade</th>\n",
       "    </tr>\n",
       "  </thead>\n",
       "  <tbody>\n",
       "    <tr>\n",
       "      <th>1</th>\n",
       "      <td>1.93</td>\n",
       "    </tr>\n",
       "    <tr>\n",
       "      <th>2</th>\n",
       "      <td>12.13</td>\n",
       "    </tr>\n",
       "    <tr>\n",
       "      <th>3</th>\n",
       "      <td>21.61</td>\n",
       "    </tr>\n",
       "    <tr>\n",
       "      <th>4</th>\n",
       "      <td>24.41</td>\n",
       "    </tr>\n",
       "    <tr>\n",
       "      <th>5</th>\n",
       "      <td>19.99</td>\n",
       "    </tr>\n",
       "    <tr>\n",
       "      <th>6</th>\n",
       "      <td>11.94</td>\n",
       "    </tr>\n",
       "    <tr>\n",
       "      <th>7</th>\n",
       "      <td>5.32</td>\n",
       "    </tr>\n",
       "    <tr>\n",
       "      <th>8</th>\n",
       "      <td>2.67</td>\n",
       "    </tr>\n",
       "  </tbody>\n",
       "</table>\n",
       "</div>"
      ],
      "text/plain": [
       "   % of Females achieving each grade\n",
       "1                               1.93\n",
       "2                              12.13\n",
       "3                              21.61\n",
       "4                              24.41\n",
       "5                              19.99\n",
       "6                              11.94\n",
       "7                               5.32\n",
       "8                               2.67"
      ]
     },
     "execution_count": 10,
     "metadata": {},
     "output_type": "execute_result"
    }
   ],
   "source": [
    "# Set x to be in the range 0 - 8\n",
    "x = np.arange(0, 8)\n",
    "#For rows 0 to 7 in female results, calculate %\n",
    "bestgirl = (fem_mat.iloc[x])\n",
    "f = pd.DataFrame(np.round(bestgirl/totalgirl*100, decimals= 2))\n",
    "f.rename(index=str, columns={\"2018-female-maths\": \"% of Females achieving each grade\"})"
   ]
  },
  {
   "cell_type": "code",
   "execution_count": 11,
   "metadata": {
    "scrolled": true
   },
   "outputs": [
    {
     "data": {
      "text/html": [
       "<div>\n",
       "<style scoped>\n",
       "    .dataframe tbody tr th:only-of-type {\n",
       "        vertical-align: middle;\n",
       "    }\n",
       "\n",
       "    .dataframe tbody tr th {\n",
       "        vertical-align: top;\n",
       "    }\n",
       "\n",
       "    .dataframe thead th {\n",
       "        text-align: right;\n",
       "    }\n",
       "</style>\n",
       "<table border=\"1\" class=\"dataframe\">\n",
       "  <thead>\n",
       "    <tr style=\"text-align: right;\">\n",
       "      <th></th>\n",
       "      <th>% of Males achieving each grade</th>\n",
       "    </tr>\n",
       "  </thead>\n",
       "  <tbody>\n",
       "    <tr>\n",
       "      <th>1</th>\n",
       "      <td>1.12</td>\n",
       "    </tr>\n",
       "    <tr>\n",
       "      <th>2</th>\n",
       "      <td>9.40</td>\n",
       "    </tr>\n",
       "    <tr>\n",
       "      <th>3</th>\n",
       "      <td>19.70</td>\n",
       "    </tr>\n",
       "    <tr>\n",
       "      <th>4</th>\n",
       "      <td>23.76</td>\n",
       "    </tr>\n",
       "    <tr>\n",
       "      <th>5</th>\n",
       "      <td>20.55</td>\n",
       "    </tr>\n",
       "    <tr>\n",
       "      <th>6</th>\n",
       "      <td>14.07</td>\n",
       "    </tr>\n",
       "    <tr>\n",
       "      <th>7</th>\n",
       "      <td>6.67</td>\n",
       "    </tr>\n",
       "    <tr>\n",
       "      <th>8</th>\n",
       "      <td>4.73</td>\n",
       "    </tr>\n",
       "  </tbody>\n",
       "</table>\n",
       "</div>"
      ],
      "text/plain": [
       "   % of Males achieving each grade\n",
       "1                             1.12\n",
       "2                             9.40\n",
       "3                            19.70\n",
       "4                            23.76\n",
       "5                            20.55\n",
       "6                            14.07\n",
       "7                             6.67\n",
       "8                             4.73"
      ]
     },
     "execution_count": 11,
     "metadata": {},
     "output_type": "execute_result"
    }
   ],
   "source": [
    "#For rows 0 to 7 in female results, calculate %\n",
    "bestboy = (mal_mat.iloc[x])\n",
    "meanboy = np.round(bestboy/totalboy*100, decimals = 2)\n",
    "m = pd.DataFrame(meanboy)\n",
    "m.rename(index=str, columns={\"2018-male-maths\": \"% of Males achieving each grade\"})"
   ]
  },
  {
   "cell_type": "markdown",
   "metadata": {},
   "source": [
    "As the data I have here, is ordinal and categorical, I can't calculate the mean. From my percentages above, and the fact my data is ordered by descending grade awards, I can see that the median grade for both female and male is an O4.\n",
    "\n",
    "I will use this data to begin my simulation. I also plan to look at other variables that I know impact attainment and are measurable; attendance and amount of time spent studying. It is unlikely that raw data will be available publicly on those variables, and so I will be investigating summary statistics and fitting them to my dataset."
   ]
  },
  {
   "cell_type": "markdown",
   "metadata": {},
   "source": [
    "## Simulating Data"
   ]
  },
  {
   "cell_type": "markdown",
   "metadata": {},
   "source": [
    "From my investigation I have categorical ordinal data, grades, divided by gender. I know exactly what percentage of girls and boys achieve each grade boundary. Results vary from year to year but from a quick examination of previous years results, these proportions are fairly typical of Leaving Cert Ordinary Level Maths Results. \n",
    "\n",
    "I will begin my simulation by generating categorical data in the form of grades awarded to 100 female and 100 male students. I will then assign the relevant gender based on the grade I have generated. \n",
    "\n",
    "The choice of equal numbers of male and female students may cause my simulation to vary from the original dataset, which had a marginally higher percentage of female students."
   ]
  },
  {
   "cell_type": "markdown",
   "metadata": {},
   "source": [
    "### Generating grades and assigning gender of candidates"
   ]
  },
  {
   "cell_type": "code",
   "execution_count": 4,
   "metadata": {},
   "outputs": [],
   "source": [
    "#Seed the random number generator\n",
    "#This should ensure the same data every time this simulation is run.\n",
    "np.random.seed(42)"
   ]
  },
  {
   "cell_type": "code",
   "execution_count": 5,
   "metadata": {
    "scrolled": false
   },
   "outputs": [],
   "source": [
    "np.random.seed(42)\n",
    "grades = ['O8', 'O7', 'O6', 'O5', 'O4', 'O3', 'O2', 'O1']\n",
    "#Use percentages above to assign the correct proportion of each grade to male and female students.\n",
    "fem_grades = np.random.choice((grades), 100, p=[ 3/100, 5/100, 12/100, 1/5, 24/100, 22/100, 12/100, 1/50])\n",
    "mal_grades = np.random.choice((grades), 100, p=[ 5/100, 7/100, 14/100, 21/100, 24/100, 19/100, 9/100, 1/100])\n",
    "#https://stackoverflow.com/questions/10803135/weighted-choice-short-and-simple\n",
    "#https://stackoverflow.com/questions/3679694/a-weighted-version-of-random-choice"
   ]
  },
  {
   "cell_type": "code",
   "execution_count": 6,
   "metadata": {
    "scrolled": true
   },
   "outputs": [],
   "source": [
    "# Create dataframe df with female candidates result grades\n",
    "df = pd.DataFrame(fem_grades, columns=['Result_grade'])\n",
    "# Create dataframe df2 with male candidates result grades\n",
    "df2 = pd.DataFrame(mal_grades, columns=['Result_grade'])\n",
    "#Combining both datasets in same column of  df\n",
    "#Note fem_grades will be found at index 0 - 99 and mal_grades now has index 100 - 199\n",
    "df = df.append(df2, ignore_index=True)\n",
    "#https://pandas.pydata.org/pandas-docs/stable/generated/pandas.DataFrame.append.html"
   ]
  },
  {
   "cell_type": "code",
   "execution_count": 21,
   "metadata": {
    "scrolled": false
   },
   "outputs": [
    {
     "data": {
      "image/png": "[encoded data removed]",
      "text/plain": [
       "<Figure size 360x360 with 1 Axes>"
      ]
     },
     "metadata": {},
     "output_type": "display_data"
    }
   ],
   "source": [
    "labels = ['O1', 'O2', 'O3', 'O4', 'O5', 'O6', 'O7', 'O8']\n",
    "sns.catplot(x=\"Result_grade\", kind=\"count\", data=df, \n",
    "            order = labels);\n",
    "#https://seaborn.pydata.org/generated/seaborn.countplot.html"
   ]
  },
  {
   "cell_type": "code",
   "execution_count": 22,
   "metadata": {
    "scrolled": false
   },
   "outputs": [
    {
     "data": {
      "image/png": "[encoded data removed]",
      "text/plain": [
       "<Figure size 576x432 with 1 Axes>"
      ]
     },
     "metadata": {},
     "output_type": "display_data"
    }
   ],
   "source": [
    "ax = plt.subplots(figsize = (8, 6))\n",
    "sizes = df['Result_grade'].value_counts().sort_index()\n",
    "ax = plt.pie(sizes, labels=labels, autopct='%1.1f%%', shadow=True);\n",
    "plt.show()\n",
    "#https://www.datacamp.com/community/tutorials/categorical-data"
   ]
  },
  {
   "cell_type": "markdown",
   "metadata": {},
   "source": [
    "Now that I have 200 grades simulated for 100 female candidates and 100 male candidate, I need to assign my second variable, gender. \n",
    "\n",
    "By design, I know that my first 100 data points are female candidates and the second 100 are male. "
   ]
  },
  {
   "cell_type": "code",
   "execution_count": 17,
   "metadata": {
    "scrolled": true
   },
   "outputs": [],
   "source": [
    "# Generating dfs with 100 strings, first female, then male\n",
    "string_female = pd.DataFrame(['female']*100)\n",
    "string_male = pd.DataFrame(['male']*100)\n",
    "# Combining both dfs to the same df column, named gender\n",
    "gender = string_female.append(string_male, ignore_index=True)"
   ]
  },
  {
   "cell_type": "code",
   "execution_count": 18,
   "metadata": {
    "scrolled": true
   },
   "outputs": [],
   "source": [
    "# Adding gender col to existing df\n",
    "df['Gender'] = gender"
   ]
  },
  {
   "cell_type": "code",
   "execution_count": 19,
   "metadata": {
    "scrolled": false
   },
   "outputs": [
    {
     "data": {
      "image/png": "[encoded data removed]",
      "text/plain": [
       "<Figure size 430.5x360 with 1 Axes>"
      ]
     },
     "metadata": {},
     "output_type": "display_data"
    }
   ],
   "source": [
    "sns.catplot(x=\"Result_grade\", hue=\"Gender\",\n",
    "                 data=df, kind=\"count\", order = ['O1', 'O2', 'O3', 'O4', 'O5', 'O6', 'O7', 'O8']);\n",
    "#https://stackoverflow.com/questions/44067951/sorting-categorical-labels-in-seaborn-chart"
   ]
  },
  {
   "cell_type": "markdown",
   "metadata": {},
   "source": [
    "### Generating results that fit the grade intervals"
   ]
  },
  {
   "cell_type": "markdown",
   "metadata": {},
   "source": [
    "I know from my research that very often assessment results are normally distributed. That isn't the case at Leaving Cert Ordinary Level Maths. I initially tried to simulate my results with a normal distribution and found that I was getting either getting too many fails, and not enough 01 and O2 grades, or vice versa. "
   ]
  },
  {
   "cell_type": "markdown",
   "metadata": {},
   "source": [
    "To solve this problem, I began by generating grades and now that I have 200 grades I can work backward and generate each candidates marks. I know the grade boundaries for each of the eight grades awarded and I know that frequency of each grade in my simulation. "
   ]
  },
  {
   "cell_type": "code",
   "execution_count": 17,
   "metadata": {},
   "outputs": [
    {
     "data": {
      "text/html": [
       "<div>\n",
       "<style scoped>\n",
       "    .dataframe tbody tr th:only-of-type {\n",
       "        vertical-align: middle;\n",
       "    }\n",
       "\n",
       "    .dataframe tbody tr th {\n",
       "        vertical-align: top;\n",
       "    }\n",
       "\n",
       "    .dataframe thead th {\n",
       "        text-align: right;\n",
       "    }\n",
       "</style>\n",
       "<table border=\"1\" class=\"dataframe\">\n",
       "  <thead>\n",
       "    <tr style=\"text-align: right;\">\n",
       "      <th></th>\n",
       "      <th>Result_grade</th>\n",
       "    </tr>\n",
       "  </thead>\n",
       "  <tbody>\n",
       "    <tr>\n",
       "      <th>O1</th>\n",
       "      <td>1</td>\n",
       "    </tr>\n",
       "    <tr>\n",
       "      <th>O2</th>\n",
       "      <td>22</td>\n",
       "    </tr>\n",
       "    <tr>\n",
       "      <th>O3</th>\n",
       "      <td>38</td>\n",
       "    </tr>\n",
       "    <tr>\n",
       "      <th>O4</th>\n",
       "      <td>46</td>\n",
       "    </tr>\n",
       "    <tr>\n",
       "      <th>O5</th>\n",
       "      <td>36</td>\n",
       "    </tr>\n",
       "    <tr>\n",
       "      <th>O6</th>\n",
       "      <td>34</td>\n",
       "    </tr>\n",
       "    <tr>\n",
       "      <th>O7</th>\n",
       "      <td>15</td>\n",
       "    </tr>\n",
       "    <tr>\n",
       "      <th>O8</th>\n",
       "      <td>8</td>\n",
       "    </tr>\n",
       "  </tbody>\n",
       "</table>\n",
       "</div>"
      ],
      "text/plain": [
       "    Result_grade\n",
       "O1             1\n",
       "O2            22\n",
       "O3            38\n",
       "O4            46\n",
       "O5            36\n",
       "O6            34\n",
       "O7            15\n",
       "O8             8"
      ]
     },
     "execution_count": 17,
     "metadata": {},
     "output_type": "execute_result"
    }
   ],
   "source": [
    "#Printing the count for each grade in my df\n",
    "pd.DataFrame(df['Result_grade'].value_counts().sort_index())"
   ]
  },
  {
   "cell_type": "markdown",
   "metadata": {},
   "source": [
    "I'm going to use the grade to generate a random mark in the interval for that grade. I've chosen to generate random marks from the Uniform Distribution. This is in part because there is no data on how marks are distributed across grade boundaries. \n",
    "\n",
    "I have changed one of the grade boundaries slighlty, so my results more closely resemble Leaving Cert results. The lowest grade O8 will contain marks from 60 to 179. I made this decision as in my professional research, it is extremely rare for a candidate to score lower than 60 marks in a Leaving Cert Ordinary Level Maths exam. "
   ]
  },
  {
   "cell_type": "code",
   "execution_count": 21,
   "metadata": {},
   "outputs": [],
   "source": [
    "#Create a new col, Result with zeros in each row\n",
    "df['Result'] = np.zeros(200)"
   ]
  },
  {
   "cell_type": "code",
   "execution_count": 22,
   "metadata": {
    "scrolled": true
   },
   "outputs": [],
   "source": [
    "np.random.seed(42)\n",
    "#Using the count and grade boundaries for each grade, I'm going to populate Result with uniformly distributed results\n",
    "df['Result'].mask(df['Result_grade']=='O1', np.random.randint(540, 600, 1), inplace=True)\n",
    "df['Result'].mask(df['Result_grade']=='O2', np.random.randint(480, 540, 22), inplace=True)\n",
    "df['Result'].mask(df['Result_grade']=='O3', np.random.randint(420, 480, 38), inplace=True)\n",
    "df['Result'].mask(df['Result_grade']=='O4', np.random.randint(360, 420, 46), inplace=True)\n",
    "df['Result'].mask(df['Result_grade']=='O5', np.random.randint(300, 360, 36), inplace=True)\n",
    "df['Result'].mask(df['Result_grade']=='O6', np.random.randint(240, 300, 34), inplace=True)\n",
    "df['Result'].mask(df['Result_grade']=='O7', np.random.randint(180, 240, 15), inplace=True)\n",
    "df['Result'].mask(df['Result_grade']=='O8', np.random.randint(60, 180, 8), inplace=True)\n",
    "#https://stackoverflow.com/questions/49667026/mask-values-in-a-pandas-dataframe-based-on-condition\n",
    "#https://pandas.pydata.org/pandas-docs/stable/generated/pandas.DataFrame.mask.html"
   ]
  },
  {
   "cell_type": "code",
   "execution_count": 23,
   "metadata": {},
   "outputs": [
    {
     "data": {
      "image/png": "[encoded data removed]",
      "text/plain": [
       "<Figure size 432x288 with 1 Axes>"
      ]
     },
     "metadata": {},
     "output_type": "display_data"
    }
   ],
   "source": [
    "girls = df.loc[(df['Gender'] == 'female')]\n",
    "boys = df.loc[(df['Gender'] == 'male')]\n",
    "\n",
    "sns.distplot(girls['Result'], label = 'Female', hist=False);\n",
    "sns.distplot(boys['Result'], label = 'Male', hist = False);\n",
    "plt.legend();"
   ]
  },
  {
   "cell_type": "code",
   "execution_count": 39,
   "metadata": {},
   "outputs": [
    {
     "data": {
      "image/png": "[encoded data removed]",
      "text/plain": [
       "<Figure size 432x288 with 1 Axes>"
      ]
     },
     "metadata": {},
     "output_type": "display_data"
    }
   ],
   "source": [
    "ax =sns.swarmplot(x='Result', y = 'Gender', data = df);\n",
    "sns.boxplot(df['Result'], df['Gender'], ax = ax, \n",
    "            boxprops={'facecolor':'None'}, whiskerprops={'linewidth':0});\n",
    "#https://seaborn.pydata.org/generated/seaborn.swarmplot.html"
   ]
  },
  {
   "cell_type": "markdown",
   "metadata": {},
   "source": [
    "### Generating categorical data for how Leaving Certs spend their free time"
   ]
  },
  {
   "cell_type": "markdown",
   "metadata": {},
   "source": [
    "Now that I have 200 results for students, I will start to add other variables that may or have been found to impact student attainment. \n",
    "\n",
    "The next variable I will examine is time spent studying versus other activities. \n",
    "\n",
    "In sixth year 60% of young women compared with 28% of young men report that they spend most of their free time studying. "
   ]
  },
  {
   "cell_type": "code",
   "execution_count": 25,
   "metadata": {
    "scrolled": true
   },
   "outputs": [],
   "source": [
    "# Strings to represent the percentage of each\n",
    "girls_study = (['study']*60)\n",
    "girls_dont = (['other']*40)\n",
    "boys_study = (['study']*28)\n",
    "boys_dont = (['other']*72)"
   ]
  },
  {
   "cell_type": "code",
   "execution_count": 26,
   "metadata": {
    "scrolled": false
   },
   "outputs": [],
   "source": [
    "# Combining the four lists of strings into one dataframe, df_\n",
    "df_ = pd.DataFrame({'Freetime':girls_study})\n",
    "df3 = pd.DataFrame({'Freetime':girls_dont})\n",
    "df_ = df_.append(df3, ignore_index=True)\n",
    "np.random.RandomState(42)\n",
    "df_ = df_.sample(frac=1)\n",
    "#https://stackoverflow.com/questions/29576430/shuffle-dataframe-rows\n",
    "df_.reset_index()\n",
    "\n",
    "df3 = pd.DataFrame({'Freetime':boys_dont})\n",
    "df4 = pd.DataFrame({'Freetime':boys_study})\n",
    "df4 = df4.append(df3, ignore_index=True)\n",
    "df4 = df4.sample(frac=1)\n",
    "df4.reset_index()\n",
    "\n",
    "df_ = df_.append(df4, ignore_index=True)\n",
    "freetime = pd.Series(df_['Freetime'])"
   ]
  },
  {
   "cell_type": "code",
   "execution_count": 27,
   "metadata": {
    "scrolled": true
   },
   "outputs": [],
   "source": [
    "# Joining df_ to simulation df\n",
    "df['Freetime'] = freetime.values\n",
    "\n",
    "#https://stackoverflow.com/questions/26666919/add-column-in-dataframe-from-list/38490727"
   ]
  },
  {
   "cell_type": "code",
   "execution_count": 28,
   "metadata": {
    "scrolled": false
   },
   "outputs": [
    {
     "data": {
      "image/png": "[encoded data removed]",
      "text/plain": [
       "<Figure size 423.75x360 with 1 Axes>"
      ]
     },
     "metadata": {},
     "output_type": "display_data"
    }
   ],
   "source": [
    "sns.catplot(x=\"Result_grade\", hue=\"Freetime\",\n",
    "                 data=df, kind=\"count\", order = ['O1', 'O2', 'O3', 'O4', 'O5', 'O6', 'O7', 'O8']);"
   ]
  },
  {
   "cell_type": "code",
   "execution_count": 40,
   "metadata": {},
   "outputs": [
    {
     "data": {
      "image/png": "[encoded data removed]",
      "text/plain": [
       "<Figure size 432x288 with 1 Axes>"
      ]
     },
     "metadata": {},
     "output_type": "display_data"
    }
   ],
   "source": [
    "ax =sns.swarmplot(x='Result', y = 'Freetime', data = df);\n",
    "sns.boxplot(df['Result'], df['Freetime'], ax = ax, \n",
    "            boxprops={'facecolor':'None'}, whiskerprops={'linewidth':0});"
   ]
  },
  {
   "cell_type": "markdown",
   "metadata": {},
   "source": [
    "### Generating numerical data measuring attendance"
   ]
  },
  {
   "cell_type": "markdown",
   "metadata": {},
   "source": [
    "According to the Tusla School Attendance report (2015/2016), the average number of days missed by post-primary school students is 7.9% of 167 days, which works out at 13 days. This number includes all year groups, and is an average of days missed for students from 1st to 6th Year. "
   ]
  },
  {
   "cell_type": "markdown",
   "metadata": {},
   "source": [
    "As a result, I was wary of using this figure. There are a wide range of factors influencing attendance, which can result in Leaving Cert students having better or worse attendance than Junior Cycle students. In the same report, 15% of students were reported to have missed 20 days or more, but we have no way of identifying if that 15% includes students from Junior Cycle or Senior Cycle, or both. "
   ]
  },
  {
   "cell_type": "markdown",
   "metadata": {},
   "source": [
    "As a result, I did some research of my own on the average number of days missed by Leaving Cert students. I discovered that between the start of 6th Year and 8th December, so the first term, a group of over 100 Leaving Certs had missed on average 7 days of school each. I'm afraid I can't share the data or my calculations here, but I can use this average to simulate the number of missed days for my cohort of 200 students. "
   ]
  },
  {
   "cell_type": "code",
   "execution_count": 30,
   "metadata": {
    "scrolled": false
   },
   "outputs": [
    {
     "data": {
      "image/png": "[encoded data removed]",
      "text/plain": [
       "<Figure size 432x288 with 1 Axes>"
      ]
     },
     "metadata": {},
     "output_type": "display_data"
    }
   ],
   "source": [
    "np.random.RandomState(42)\n",
    "missed_days = pd.Series(np.random.poisson(7, 200))\n",
    "sns.distplot(missed_days);\n",
    "df['Missed_days'] = missed_days.values"
   ]
  },
  {
   "cell_type": "markdown",
   "metadata": {},
   "source": [
    "I have used the Poisson distribution to model the number of days a student was absent. I chose this distribution as my data is numerical, discrete and I am aware of the average. \n",
    "\n",
    "I am using the distribution to calculate the number of days missed for a class of 200 students over the entire academic year. These events are independent, as the number of days one student misses is not impacted by another.  "
   ]
  },
  {
   "cell_type": "code",
   "execution_count": 31,
   "metadata": {
    "scrolled": false
   },
   "outputs": [
    {
     "data": {
      "image/png": "[encoded data removed]",
      "text/plain": [
       "<Figure size 432x288 with 1 Axes>"
      ]
     },
     "metadata": {},
     "output_type": "display_data"
    }
   ],
   "source": [
    "sns.boxplot(x = df['Result_grade'], y = df['Missed_days'], \n",
    "            order = ['O1', 'O2', 'O3', 'O4', 'O5', 'O6', 'O7', 'O8']);"
   ]
  },
  {
   "cell_type": "code",
   "execution_count": 32,
   "metadata": {
    "scrolled": false
   },
   "outputs": [
    {
     "data": {
      "image/png": "[encoded data removed]",
      "text/plain": [
       "<Figure size 430.5x360 with 1 Axes>"
      ]
     },
     "metadata": {},
     "output_type": "display_data"
    }
   ],
   "source": [
    "sns.catplot(x=\"Missed_days\", hue=\"Gender\",\n",
    "                 data=df, kind=\"count\");\n"
   ]
  },
  {
   "cell_type": "markdown",
   "metadata": {},
   "source": [
    "An English study found pupils with no absence 2.8 times more likely to achieve 5+ GCSEs A*-C or equivalent including English and mathematics than pupils missing 15-20 per cent of KS4 lessons. However 15% of 167 days in the Irish school year is almost 25 days, which would be at the extreme end of absences in Irish schools. In fact based on my research and simulated data no student in my dataset would fall into this category. "
   ]
  },
  {
   "cell_type": "markdown",
   "metadata": {},
   "source": [
    "## Simulated Dataset"
   ]
  },
  {
   "cell_type": "code",
   "execution_count": 33,
   "metadata": {
    "scrolled": false
   },
   "outputs": [
    {
     "data": {
      "text/html": [
       "<div>\n",
       "<style scoped>\n",
       "    .dataframe tbody tr th:only-of-type {\n",
       "        vertical-align: middle;\n",
       "    }\n",
       "\n",
       "    .dataframe tbody tr th {\n",
       "        vertical-align: top;\n",
       "    }\n",
       "\n",
       "    .dataframe thead th {\n",
       "        text-align: right;\n",
       "    }\n",
       "</style>\n",
       "<table border=\"1\" class=\"dataframe\">\n",
       "  <thead>\n",
       "    <tr style=\"text-align: right;\">\n",
       "      <th></th>\n",
       "      <th>Result_grade</th>\n",
       "      <th>Gender</th>\n",
       "      <th>Result</th>\n",
       "      <th>Freetime</th>\n",
       "      <th>Missed_days</th>\n",
       "    </tr>\n",
       "  </thead>\n",
       "  <tbody>\n",
       "    <tr>\n",
       "      <th>0</th>\n",
       "      <td>O5</td>\n",
       "      <td>female</td>\n",
       "      <td>344.0</td>\n",
       "      <td>study</td>\n",
       "      <td>17</td>\n",
       "    </tr>\n",
       "    <tr>\n",
       "      <th>1</th>\n",
       "      <td>O2</td>\n",
       "      <td>female</td>\n",
       "      <td>531.0</td>\n",
       "      <td>study</td>\n",
       "      <td>3</td>\n",
       "    </tr>\n",
       "    <tr>\n",
       "      <th>2</th>\n",
       "      <td>O3</td>\n",
       "      <td>female</td>\n",
       "      <td>463.0</td>\n",
       "      <td>study</td>\n",
       "      <td>5</td>\n",
       "    </tr>\n",
       "    <tr>\n",
       "      <th>3</th>\n",
       "      <td>O4</td>\n",
       "      <td>female</td>\n",
       "      <td>409.0</td>\n",
       "      <td>study</td>\n",
       "      <td>7</td>\n",
       "    </tr>\n",
       "    <tr>\n",
       "      <th>4</th>\n",
       "      <td>O6</td>\n",
       "      <td>female</td>\n",
       "      <td>280.0</td>\n",
       "      <td>other</td>\n",
       "      <td>8</td>\n",
       "    </tr>\n",
       "    <tr>\n",
       "      <th>5</th>\n",
       "      <td>O6</td>\n",
       "      <td>female</td>\n",
       "      <td>267.0</td>\n",
       "      <td>other</td>\n",
       "      <td>3</td>\n",
       "    </tr>\n",
       "    <tr>\n",
       "      <th>6</th>\n",
       "      <td>O7</td>\n",
       "      <td>female</td>\n",
       "      <td>194.0</td>\n",
       "      <td>study</td>\n",
       "      <td>7</td>\n",
       "    </tr>\n",
       "    <tr>\n",
       "      <th>7</th>\n",
       "      <td>O2</td>\n",
       "      <td>female</td>\n",
       "      <td>508.0</td>\n",
       "      <td>study</td>\n",
       "      <td>10</td>\n",
       "    </tr>\n",
       "    <tr>\n",
       "      <th>8</th>\n",
       "      <td>O4</td>\n",
       "      <td>female</td>\n",
       "      <td>417.0</td>\n",
       "      <td>study</td>\n",
       "      <td>2</td>\n",
       "    </tr>\n",
       "    <tr>\n",
       "      <th>9</th>\n",
       "      <td>O3</td>\n",
       "      <td>female</td>\n",
       "      <td>449.0</td>\n",
       "      <td>study</td>\n",
       "      <td>5</td>\n",
       "    </tr>\n",
       "    <tr>\n",
       "      <th>10</th>\n",
       "      <td>O8</td>\n",
       "      <td>female</td>\n",
       "      <td>162.0</td>\n",
       "      <td>study</td>\n",
       "      <td>6</td>\n",
       "    </tr>\n",
       "    <tr>\n",
       "      <th>11</th>\n",
       "      <td>O2</td>\n",
       "      <td>female</td>\n",
       "      <td>494.0</td>\n",
       "      <td>study</td>\n",
       "      <td>6</td>\n",
       "    </tr>\n",
       "    <tr>\n",
       "      <th>12</th>\n",
       "      <td>O3</td>\n",
       "      <td>female</td>\n",
       "      <td>457.0</td>\n",
       "      <td>study</td>\n",
       "      <td>7</td>\n",
       "    </tr>\n",
       "    <tr>\n",
       "      <th>13</th>\n",
       "      <td>O5</td>\n",
       "      <td>female</td>\n",
       "      <td>317.0</td>\n",
       "      <td>study</td>\n",
       "      <td>7</td>\n",
       "    </tr>\n",
       "    <tr>\n",
       "      <th>14</th>\n",
       "      <td>O6</td>\n",
       "      <td>female</td>\n",
       "      <td>246.0</td>\n",
       "      <td>study</td>\n",
       "      <td>3</td>\n",
       "    </tr>\n",
       "    <tr>\n",
       "      <th>15</th>\n",
       "      <td>O6</td>\n",
       "      <td>female</td>\n",
       "      <td>248.0</td>\n",
       "      <td>study</td>\n",
       "      <td>5</td>\n",
       "    </tr>\n",
       "    <tr>\n",
       "      <th>16</th>\n",
       "      <td>O5</td>\n",
       "      <td>female</td>\n",
       "      <td>346.0</td>\n",
       "      <td>other</td>\n",
       "      <td>12</td>\n",
       "    </tr>\n",
       "    <tr>\n",
       "      <th>17</th>\n",
       "      <td>O4</td>\n",
       "      <td>female</td>\n",
       "      <td>368.0</td>\n",
       "      <td>study</td>\n",
       "      <td>10</td>\n",
       "    </tr>\n",
       "    <tr>\n",
       "      <th>18</th>\n",
       "      <td>O4</td>\n",
       "      <td>female</td>\n",
       "      <td>385.0</td>\n",
       "      <td>study</td>\n",
       "      <td>4</td>\n",
       "    </tr>\n",
       "    <tr>\n",
       "      <th>19</th>\n",
       "      <td>O5</td>\n",
       "      <td>female</td>\n",
       "      <td>352.0</td>\n",
       "      <td>study</td>\n",
       "      <td>12</td>\n",
       "    </tr>\n",
       "    <tr>\n",
       "      <th>20</th>\n",
       "      <td>O4</td>\n",
       "      <td>female</td>\n",
       "      <td>412.0</td>\n",
       "      <td>other</td>\n",
       "      <td>6</td>\n",
       "    </tr>\n",
       "    <tr>\n",
       "      <th>21</th>\n",
       "      <td>O6</td>\n",
       "      <td>female</td>\n",
       "      <td>247.0</td>\n",
       "      <td>study</td>\n",
       "      <td>4</td>\n",
       "    </tr>\n",
       "    <tr>\n",
       "      <th>22</th>\n",
       "      <td>O5</td>\n",
       "      <td>female</td>\n",
       "      <td>323.0</td>\n",
       "      <td>study</td>\n",
       "      <td>5</td>\n",
       "    </tr>\n",
       "    <tr>\n",
       "      <th>23</th>\n",
       "      <td>O5</td>\n",
       "      <td>female</td>\n",
       "      <td>325.0</td>\n",
       "      <td>other</td>\n",
       "      <td>11</td>\n",
       "    </tr>\n",
       "    <tr>\n",
       "      <th>24</th>\n",
       "      <td>O4</td>\n",
       "      <td>female</td>\n",
       "      <td>361.0</td>\n",
       "      <td>study</td>\n",
       "      <td>3</td>\n",
       "    </tr>\n",
       "    <tr>\n",
       "      <th>25</th>\n",
       "      <td>O3</td>\n",
       "      <td>female</td>\n",
       "      <td>421.0</td>\n",
       "      <td>study</td>\n",
       "      <td>3</td>\n",
       "    </tr>\n",
       "    <tr>\n",
       "      <th>26</th>\n",
       "      <td>O6</td>\n",
       "      <td>female</td>\n",
       "      <td>251.0</td>\n",
       "      <td>other</td>\n",
       "      <td>9</td>\n",
       "    </tr>\n",
       "    <tr>\n",
       "      <th>27</th>\n",
       "      <td>O4</td>\n",
       "      <td>female</td>\n",
       "      <td>379.0</td>\n",
       "      <td>other</td>\n",
       "      <td>6</td>\n",
       "    </tr>\n",
       "    <tr>\n",
       "      <th>28</th>\n",
       "      <td>O4</td>\n",
       "      <td>female</td>\n",
       "      <td>387.0</td>\n",
       "      <td>other</td>\n",
       "      <td>9</td>\n",
       "    </tr>\n",
       "    <tr>\n",
       "      <th>29</th>\n",
       "      <td>O7</td>\n",
       "      <td>female</td>\n",
       "      <td>205.0</td>\n",
       "      <td>study</td>\n",
       "      <td>9</td>\n",
       "    </tr>\n",
       "    <tr>\n",
       "      <th>...</th>\n",
       "      <td>...</td>\n",
       "      <td>...</td>\n",
       "      <td>...</td>\n",
       "      <td>...</td>\n",
       "      <td>...</td>\n",
       "    </tr>\n",
       "    <tr>\n",
       "      <th>170</th>\n",
       "      <td>O4</td>\n",
       "      <td>male</td>\n",
       "      <td>367.0</td>\n",
       "      <td>other</td>\n",
       "      <td>5</td>\n",
       "    </tr>\n",
       "    <tr>\n",
       "      <th>171</th>\n",
       "      <td>O8</td>\n",
       "      <td>male</td>\n",
       "      <td>91.0</td>\n",
       "      <td>other</td>\n",
       "      <td>11</td>\n",
       "    </tr>\n",
       "    <tr>\n",
       "      <th>172</th>\n",
       "      <td>O4</td>\n",
       "      <td>male</td>\n",
       "      <td>373.0</td>\n",
       "      <td>other</td>\n",
       "      <td>8</td>\n",
       "    </tr>\n",
       "    <tr>\n",
       "      <th>173</th>\n",
       "      <td>O6</td>\n",
       "      <td>male</td>\n",
       "      <td>253.0</td>\n",
       "      <td>other</td>\n",
       "      <td>6</td>\n",
       "    </tr>\n",
       "    <tr>\n",
       "      <th>174</th>\n",
       "      <td>O4</td>\n",
       "      <td>male</td>\n",
       "      <td>382.0</td>\n",
       "      <td>study</td>\n",
       "      <td>10</td>\n",
       "    </tr>\n",
       "    <tr>\n",
       "      <th>175</th>\n",
       "      <td>O6</td>\n",
       "      <td>male</td>\n",
       "      <td>278.0</td>\n",
       "      <td>study</td>\n",
       "      <td>9</td>\n",
       "    </tr>\n",
       "    <tr>\n",
       "      <th>176</th>\n",
       "      <td>O4</td>\n",
       "      <td>male</td>\n",
       "      <td>419.0</td>\n",
       "      <td>other</td>\n",
       "      <td>11</td>\n",
       "    </tr>\n",
       "    <tr>\n",
       "      <th>177</th>\n",
       "      <td>O5</td>\n",
       "      <td>male</td>\n",
       "      <td>304.0</td>\n",
       "      <td>other</td>\n",
       "      <td>4</td>\n",
       "    </tr>\n",
       "    <tr>\n",
       "      <th>178</th>\n",
       "      <td>O2</td>\n",
       "      <td>male</td>\n",
       "      <td>532.0</td>\n",
       "      <td>other</td>\n",
       "      <td>5</td>\n",
       "    </tr>\n",
       "    <tr>\n",
       "      <th>179</th>\n",
       "      <td>O6</td>\n",
       "      <td>male</td>\n",
       "      <td>266.0</td>\n",
       "      <td>other</td>\n",
       "      <td>6</td>\n",
       "    </tr>\n",
       "    <tr>\n",
       "      <th>180</th>\n",
       "      <td>O5</td>\n",
       "      <td>male</td>\n",
       "      <td>341.0</td>\n",
       "      <td>other</td>\n",
       "      <td>5</td>\n",
       "    </tr>\n",
       "    <tr>\n",
       "      <th>181</th>\n",
       "      <td>O7</td>\n",
       "      <td>male</td>\n",
       "      <td>216.0</td>\n",
       "      <td>other</td>\n",
       "      <td>6</td>\n",
       "    </tr>\n",
       "    <tr>\n",
       "      <th>182</th>\n",
       "      <td>O2</td>\n",
       "      <td>male</td>\n",
       "      <td>481.0</td>\n",
       "      <td>other</td>\n",
       "      <td>4</td>\n",
       "    </tr>\n",
       "    <tr>\n",
       "      <th>183</th>\n",
       "      <td>O3</td>\n",
       "      <td>male</td>\n",
       "      <td>428.0</td>\n",
       "      <td>study</td>\n",
       "      <td>10</td>\n",
       "    </tr>\n",
       "    <tr>\n",
       "      <th>184</th>\n",
       "      <td>O6</td>\n",
       "      <td>male</td>\n",
       "      <td>248.0</td>\n",
       "      <td>study</td>\n",
       "      <td>5</td>\n",
       "    </tr>\n",
       "    <tr>\n",
       "      <th>185</th>\n",
       "      <td>O4</td>\n",
       "      <td>male</td>\n",
       "      <td>416.0</td>\n",
       "      <td>study</td>\n",
       "      <td>4</td>\n",
       "    </tr>\n",
       "    <tr>\n",
       "      <th>186</th>\n",
       "      <td>O3</td>\n",
       "      <td>male</td>\n",
       "      <td>458.0</td>\n",
       "      <td>other</td>\n",
       "      <td>3</td>\n",
       "    </tr>\n",
       "    <tr>\n",
       "      <th>187</th>\n",
       "      <td>O4</td>\n",
       "      <td>male</td>\n",
       "      <td>399.0</td>\n",
       "      <td>other</td>\n",
       "      <td>9</td>\n",
       "    </tr>\n",
       "    <tr>\n",
       "      <th>188</th>\n",
       "      <td>O4</td>\n",
       "      <td>male</td>\n",
       "      <td>380.0</td>\n",
       "      <td>study</td>\n",
       "      <td>7</td>\n",
       "    </tr>\n",
       "    <tr>\n",
       "      <th>189</th>\n",
       "      <td>O6</td>\n",
       "      <td>male</td>\n",
       "      <td>254.0</td>\n",
       "      <td>study</td>\n",
       "      <td>9</td>\n",
       "    </tr>\n",
       "    <tr>\n",
       "      <th>190</th>\n",
       "      <td>O7</td>\n",
       "      <td>male</td>\n",
       "      <td>202.0</td>\n",
       "      <td>other</td>\n",
       "      <td>9</td>\n",
       "    </tr>\n",
       "    <tr>\n",
       "      <th>191</th>\n",
       "      <td>O3</td>\n",
       "      <td>male</td>\n",
       "      <td>437.0</td>\n",
       "      <td>other</td>\n",
       "      <td>4</td>\n",
       "    </tr>\n",
       "    <tr>\n",
       "      <th>192</th>\n",
       "      <td>O2</td>\n",
       "      <td>male</td>\n",
       "      <td>503.0</td>\n",
       "      <td>other</td>\n",
       "      <td>3</td>\n",
       "    </tr>\n",
       "    <tr>\n",
       "      <th>193</th>\n",
       "      <td>O4</td>\n",
       "      <td>male</td>\n",
       "      <td>375.0</td>\n",
       "      <td>study</td>\n",
       "      <td>8</td>\n",
       "    </tr>\n",
       "    <tr>\n",
       "      <th>194</th>\n",
       "      <td>O5</td>\n",
       "      <td>male</td>\n",
       "      <td>338.0</td>\n",
       "      <td>other</td>\n",
       "      <td>4</td>\n",
       "    </tr>\n",
       "    <tr>\n",
       "      <th>195</th>\n",
       "      <td>O5</td>\n",
       "      <td>male</td>\n",
       "      <td>357.0</td>\n",
       "      <td>study</td>\n",
       "      <td>6</td>\n",
       "    </tr>\n",
       "    <tr>\n",
       "      <th>196</th>\n",
       "      <td>O3</td>\n",
       "      <td>male</td>\n",
       "      <td>423.0</td>\n",
       "      <td>study</td>\n",
       "      <td>5</td>\n",
       "    </tr>\n",
       "    <tr>\n",
       "      <th>197</th>\n",
       "      <td>O3</td>\n",
       "      <td>male</td>\n",
       "      <td>444.0</td>\n",
       "      <td>other</td>\n",
       "      <td>12</td>\n",
       "    </tr>\n",
       "    <tr>\n",
       "      <th>198</th>\n",
       "      <td>O3</td>\n",
       "      <td>male</td>\n",
       "      <td>479.0</td>\n",
       "      <td>other</td>\n",
       "      <td>7</td>\n",
       "    </tr>\n",
       "    <tr>\n",
       "      <th>199</th>\n",
       "      <td>O3</td>\n",
       "      <td>male</td>\n",
       "      <td>433.0</td>\n",
       "      <td>study</td>\n",
       "      <td>14</td>\n",
       "    </tr>\n",
       "  </tbody>\n",
       "</table>\n",
       "<p>200 rows × 5 columns</p>\n",
       "</div>"
      ],
      "text/plain": [
       "    Result_grade  Gender  Result Freetime  Missed_days\n",
       "0             O5  female   344.0    study           17\n",
       "1             O2  female   531.0    study            3\n",
       "2             O3  female   463.0    study            5\n",
       "3             O4  female   409.0    study            7\n",
       "4             O6  female   280.0    other            8\n",
       "5             O6  female   267.0    other            3\n",
       "6             O7  female   194.0    study            7\n",
       "7             O2  female   508.0    study           10\n",
       "8             O4  female   417.0    study            2\n",
       "9             O3  female   449.0    study            5\n",
       "10            O8  female   162.0    study            6\n",
       "11            O2  female   494.0    study            6\n",
       "12            O3  female   457.0    study            7\n",
       "13            O5  female   317.0    study            7\n",
       "14            O6  female   246.0    study            3\n",
       "15            O6  female   248.0    study            5\n",
       "16            O5  female   346.0    other           12\n",
       "17            O4  female   368.0    study           10\n",
       "18            O4  female   385.0    study            4\n",
       "19            O5  female   352.0    study           12\n",
       "20            O4  female   412.0    other            6\n",
       "21            O6  female   247.0    study            4\n",
       "22            O5  female   323.0    study            5\n",
       "23            O5  female   325.0    other           11\n",
       "24            O4  female   361.0    study            3\n",
       "25            O3  female   421.0    study            3\n",
       "26            O6  female   251.0    other            9\n",
       "27            O4  female   379.0    other            6\n",
       "28            O4  female   387.0    other            9\n",
       "29            O7  female   205.0    study            9\n",
       "..           ...     ...     ...      ...          ...\n",
       "170           O4    male   367.0    other            5\n",
       "171           O8    male    91.0    other           11\n",
       "172           O4    male   373.0    other            8\n",
       "173           O6    male   253.0    other            6\n",
       "174           O4    male   382.0    study           10\n",
       "175           O6    male   278.0    study            9\n",
       "176           O4    male   419.0    other           11\n",
       "177           O5    male   304.0    other            4\n",
       "178           O2    male   532.0    other            5\n",
       "179           O6    male   266.0    other            6\n",
       "180           O5    male   341.0    other            5\n",
       "181           O7    male   216.0    other            6\n",
       "182           O2    male   481.0    other            4\n",
       "183           O3    male   428.0    study           10\n",
       "184           O6    male   248.0    study            5\n",
       "185           O4    male   416.0    study            4\n",
       "186           O3    male   458.0    other            3\n",
       "187           O4    male   399.0    other            9\n",
       "188           O4    male   380.0    study            7\n",
       "189           O6    male   254.0    study            9\n",
       "190           O7    male   202.0    other            9\n",
       "191           O3    male   437.0    other            4\n",
       "192           O2    male   503.0    other            3\n",
       "193           O4    male   375.0    study            8\n",
       "194           O5    male   338.0    other            4\n",
       "195           O5    male   357.0    study            6\n",
       "196           O3    male   423.0    study            5\n",
       "197           O3    male   444.0    other           12\n",
       "198           O3    male   479.0    other            7\n",
       "199           O3    male   433.0    study           14\n",
       "\n",
       "[200 rows x 5 columns]"
      ]
     },
     "execution_count": 33,
     "metadata": {},
     "output_type": "execute_result"
    }
   ],
   "source": [
    "df"
   ]
  },
  {
   "cell_type": "code",
   "execution_count": 34,
   "metadata": {},
   "outputs": [
    {
     "name": "stdout",
     "output_type": "stream",
     "text": [
      "<class 'pandas.core.frame.DataFrame'>\n",
      "RangeIndex: 200 entries, 0 to 199\n",
      "Data columns (total 5 columns):\n",
      "Result_grade    200 non-null object\n",
      "Gender          200 non-null object\n",
      "Result          200 non-null float64\n",
      "Freetime        200 non-null object\n",
      "Missed_days     200 non-null int32\n",
      "dtypes: float64(1), int32(1), object(3)\n",
      "memory usage: 7.1+ KB\n"
     ]
    }
   ],
   "source": [
    "df.info()"
   ]
  },
  {
   "cell_type": "code",
   "execution_count": 35,
   "metadata": {},
   "outputs": [
    {
     "data": {
      "text/html": [
       "<div>\n",
       "<style scoped>\n",
       "    .dataframe tbody tr th:only-of-type {\n",
       "        vertical-align: middle;\n",
       "    }\n",
       "\n",
       "    .dataframe tbody tr th {\n",
       "        vertical-align: top;\n",
       "    }\n",
       "\n",
       "    .dataframe thead th {\n",
       "        text-align: right;\n",
       "    }\n",
       "</style>\n",
       "<table border=\"1\" class=\"dataframe\">\n",
       "  <thead>\n",
       "    <tr style=\"text-align: right;\">\n",
       "      <th></th>\n",
       "      <th>Result</th>\n",
       "      <th>Missed_days</th>\n",
       "    </tr>\n",
       "  </thead>\n",
       "  <tbody>\n",
       "    <tr>\n",
       "      <th>count</th>\n",
       "      <td>200.00000</td>\n",
       "      <td>200.000000</td>\n",
       "    </tr>\n",
       "    <tr>\n",
       "      <th>mean</th>\n",
       "      <td>358.76500</td>\n",
       "      <td>6.995000</td>\n",
       "    </tr>\n",
       "    <tr>\n",
       "      <th>std</th>\n",
       "      <td>103.44022</td>\n",
       "      <td>2.813281</td>\n",
       "    </tr>\n",
       "    <tr>\n",
       "      <th>min</th>\n",
       "      <td>72.00000</td>\n",
       "      <td>1.000000</td>\n",
       "    </tr>\n",
       "    <tr>\n",
       "      <th>25%</th>\n",
       "      <td>278.75000</td>\n",
       "      <td>5.000000</td>\n",
       "    </tr>\n",
       "    <tr>\n",
       "      <th>50%</th>\n",
       "      <td>367.00000</td>\n",
       "      <td>7.000000</td>\n",
       "    </tr>\n",
       "    <tr>\n",
       "      <th>75%</th>\n",
       "      <td>440.00000</td>\n",
       "      <td>9.000000</td>\n",
       "    </tr>\n",
       "    <tr>\n",
       "      <th>max</th>\n",
       "      <td>578.00000</td>\n",
       "      <td>17.000000</td>\n",
       "    </tr>\n",
       "  </tbody>\n",
       "</table>\n",
       "</div>"
      ],
      "text/plain": [
       "          Result  Missed_days\n",
       "count  200.00000   200.000000\n",
       "mean   358.76500     6.995000\n",
       "std    103.44022     2.813281\n",
       "min     72.00000     1.000000\n",
       "25%    278.75000     5.000000\n",
       "50%    367.00000     7.000000\n",
       "75%    440.00000     9.000000\n",
       "max    578.00000    17.000000"
      ]
     },
     "execution_count": 35,
     "metadata": {},
     "output_type": "execute_result"
    }
   ],
   "source": [
    "df.describe()"
   ]
  },
  {
   "cell_type": "markdown",
   "metadata": {},
   "source": [
    "### Problems Arising and Evaluation of Success"
   ]
  },
  {
   "cell_type": "markdown",
   "metadata": {},
   "source": [
    "**Simulating Results:**\n",
    "- I initially simulated my data using the np.random.normal function. I generated the data for each gender separately with the same standard deviation, and a slightly higher mean for girls who typically achieve higher grades in LCOL Maths. I ran this simulation and found that my results showed higher rates of failure and smaller numbers of students achieving the top grades of O1 and O2. Adjusting the parameters did not improve the accuracy of my results. "
   ]
  },
  {
   "cell_type": "markdown",
   "metadata": {},
   "source": [
    "- As a result I chose to generate categorial data in the form of grades O1 to O8 using the proportion of results from 2018. I used the porportions of male and female results to generate 100 grades for each gender and then combined them. Accounting for a discrepancy in the proportion of girls vs. boys, my data was now broadly in line with what I'd expect to see."
   ]
  },
  {
   "cell_type": "markdown",
   "metadata": {},
   "source": [
    "- Next, I assigned numerical marks based on the grade a student was awarded. I used uniformly generated data there is no public information on how marks are distributed across grades. "
   ]
  },
  {
   "cell_type": "markdown",
   "metadata": {},
   "source": [
    "At this stage, my simulated data technically had 3 variable: Gender, Results, and Grade."
   ]
  },
  {
   "cell_type": "markdown",
   "metadata": {},
   "source": [
    "**Generating Categorical Freetime data:** \n",
    "- Once data was generated, I plotted a swarmplot to see if it matched acccepted research. It didn't; students who spent most of free time studying were not more likely to achieve the highest grades, but they were less likely to fail. And students who didn't study were just as likely to get the highest grade."
   ]
  },
  {
   "cell_type": "markdown",
   "metadata": {},
   "source": [
    "- I wanted to find a way to match this data randomly, in such a way that students with the highest grade results would be more likely to spend most of their time studying."
   ]
  },
  {
   "cell_type": "markdown",
   "metadata": {},
   "source": [
    "**Generating Categorical Absenses data:**"
   ]
  },
  {
   "cell_type": "markdown",
   "metadata": {},
   "source": [
    "- I used the Poisson distribution to simulate absences for my cohort of 200 students. I thought that I would have to fit my results to ensure students with better attendance achieve higher grades. However all research from other jurisdictions imply that Irish students have very good attendance, and there is no research that points to the range of absences in my dataset impeding attainment. "
   ]
  },
  {
   "cell_type": "markdown",
   "metadata": {},
   "source": [
    "- I did try to find local data on student attainment given attendance levels, but that data doesn't appear to be available. Thankfully much of Irish research is more concerned with student participation and school completion. As all Leaving Cert candidates are deemed to have completed school, that information was not relevant to my project."
   ]
  },
  {
   "cell_type": "markdown",
   "metadata": {},
   "source": [
    "## In Summary"
   ]
  },
  {
   "cell_type": "code",
   "execution_count": null,
   "metadata": {},
   "outputs": [],
   "source": []
  },
  {
   "cell_type": "markdown",
   "metadata": {},
   "source": [
    "## References"
   ]
  },
  {
   "cell_type": "markdown",
   "metadata": {},
   "source": [
    "* [State Examinations Commission - Annual Exams Statistics](https://www.examinations.ie/statistics/?l=en&mc=st&sc=r11)\n",
    "* [A Social Portrait of Children in Ireland](https://www.esri.ie/pubs/BKMNEXT097.pdf)\n",
    "* [Tusla, School Attendance Data for Primary and Secondary School students(2015/2016)](https://www.tusla.ie/uploads/content/School_Attendance_Data_2015-16.pdf)\n",
    "* [The link between absence and attainment at KS2 and KS4 2012/13 academic year, DfE Research Report](https://assets.publishing.service.gov.uk/government/uploads/system/uploads/attachment_data/file/412638/The_link_between_absence_and_attainment_at_KS2_and_KS4.pdf)"
   ]
  },
  {
   "cell_type": "code",
   "execution_count": null,
   "metadata": {
    "scrolled": false
   },
   "outputs": [],
   "source": []
  }
 ],
 "metadata": {
  "kernelspec": {
   "display_name": "Python 3",
   "language": "python",
   "name": "python3"
  },
  "language_info": {
   "codemirror_mode": {
    "name": "ipython",
    "version": 3
   },
   "file_extension": ".py",
   "mimetype": "text/x-python",
   "name": "python",
   "nbconvert_exporter": "python",
   "pygments_lexer": "ipython3",
   "version": "3.6.5"
  }
 },
 "nbformat": 4,
 "nbformat_minor": 2
}

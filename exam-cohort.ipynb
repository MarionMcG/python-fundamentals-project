{
 "cells": [
  {
   "cell_type": "markdown",
   "metadata": {},
   "source": [
    "### Investigation - Attempt 1\n",
    "\n",
    "Looking for nice statistical patterns or distributions of data, using raw data from the CSO. \n",
    "\n",
    "This is just a rough investigation, as I have not finalized my intentions for this project."
   ]
  },
  {
   "cell_type": "code",
   "execution_count": 2,
   "metadata": {},
   "outputs": [],
   "source": [
    "import pandas as pd\n",
    "import numpy as np\n",
    "import matplotlib.pyplot as plt\n",
    "import seaborn as sns"
   ]
  },
  {
   "cell_type": "markdown",
   "metadata": {},
   "source": [
    "### Investigation - SEC Data"
   ]
  },
  {
   "cell_type": "markdown",
   "metadata": {},
   "source": [
    "#### Leaving Cert Ordinary Level Maths"
   ]
  },
  {
   "cell_type": "markdown",
   "metadata": {},
   "source": [
    "I put some of the unwieldy data into a csv file. 2018 Leaving Cert Higher, Ordinary and Foundation Level results by gender, in Maths and English, are printed and investigated below. "
   ]
  },
  {
   "cell_type": "code",
   "execution_count": 20,
   "metadata": {},
   "outputs": [
    {
     "data": {
      "text/html": [
       "<div>\n",
       "<style scoped>\n",
       "    .dataframe tbody tr th:only-of-type {\n",
       "        vertical-align: middle;\n",
       "    }\n",
       "\n",
       "    .dataframe tbody tr th {\n",
       "        vertical-align: top;\n",
       "    }\n",
       "\n",
       "    .dataframe thead th {\n",
       "        text-align: right;\n",
       "    }\n",
       "</style>\n",
       "<table border=\"1\" class=\"dataframe\">\n",
       "  <thead>\n",
       "    <tr style=\"text-align: right;\">\n",
       "      <th></th>\n",
       "      <th>Grade</th>\n",
       "      <th>Level</th>\n",
       "      <th>2018-total-maths</th>\n",
       "      <th>2018-female-maths</th>\n",
       "      <th>2018-male-maths</th>\n",
       "      <th>2018-total-eng</th>\n",
       "      <th>2018-female-eng</th>\n",
       "      <th>2018-male-eng</th>\n",
       "    </tr>\n",
       "  </thead>\n",
       "  <tbody>\n",
       "    <tr>\n",
       "      <th>8</th>\n",
       "      <td>1</td>\n",
       "      <td>O</td>\n",
       "      <td>482</td>\n",
       "      <td>314</td>\n",
       "      <td>168</td>\n",
       "      <td>214.0</td>\n",
       "      <td>123.0</td>\n",
       "      <td>91.0</td>\n",
       "    </tr>\n",
       "    <tr>\n",
       "      <th>9</th>\n",
       "      <td>2</td>\n",
       "      <td>O</td>\n",
       "      <td>3392</td>\n",
       "      <td>1979</td>\n",
       "      <td>1413</td>\n",
       "      <td>1190.0</td>\n",
       "      <td>634.0</td>\n",
       "      <td>556.0</td>\n",
       "    </tr>\n",
       "    <tr>\n",
       "      <th>10</th>\n",
       "      <td>3</td>\n",
       "      <td>O</td>\n",
       "      <td>6484</td>\n",
       "      <td>3524</td>\n",
       "      <td>2960</td>\n",
       "      <td>3086.0</td>\n",
       "      <td>1402.0</td>\n",
       "      <td>1684.0</td>\n",
       "    </tr>\n",
       "    <tr>\n",
       "      <th>11</th>\n",
       "      <td>4</td>\n",
       "      <td>O</td>\n",
       "      <td>7551</td>\n",
       "      <td>3981</td>\n",
       "      <td>3570</td>\n",
       "      <td>4163.0</td>\n",
       "      <td>1707.0</td>\n",
       "      <td>2456.0</td>\n",
       "    </tr>\n",
       "    <tr>\n",
       "      <th>12</th>\n",
       "      <td>5</td>\n",
       "      <td>O</td>\n",
       "      <td>6348</td>\n",
       "      <td>3260</td>\n",
       "      <td>3088</td>\n",
       "      <td>3328.0</td>\n",
       "      <td>1194.0</td>\n",
       "      <td>2134.0</td>\n",
       "    </tr>\n",
       "    <tr>\n",
       "      <th>13</th>\n",
       "      <td>6</td>\n",
       "      <td>O</td>\n",
       "      <td>4062</td>\n",
       "      <td>1948</td>\n",
       "      <td>2114</td>\n",
       "      <td>1811.0</td>\n",
       "      <td>539.0</td>\n",
       "      <td>1272.0</td>\n",
       "    </tr>\n",
       "    <tr>\n",
       "      <th>14</th>\n",
       "      <td>7</td>\n",
       "      <td>O</td>\n",
       "      <td>1870</td>\n",
       "      <td>868</td>\n",
       "      <td>1002</td>\n",
       "      <td>667.0</td>\n",
       "      <td>172.0</td>\n",
       "      <td>495.0</td>\n",
       "    </tr>\n",
       "    <tr>\n",
       "      <th>15</th>\n",
       "      <td>8</td>\n",
       "      <td>O</td>\n",
       "      <td>1147</td>\n",
       "      <td>436</td>\n",
       "      <td>711</td>\n",
       "      <td>294.0</td>\n",
       "      <td>53.0</td>\n",
       "      <td>241.0</td>\n",
       "    </tr>\n",
       "  </tbody>\n",
       "</table>\n",
       "</div>"
      ],
      "text/plain": [
       "    Grade Level  2018-total-maths  2018-female-maths  2018-male-maths  \\\n",
       "8       1     O               482                314              168   \n",
       "9       2     O              3392               1979             1413   \n",
       "10      3     O              6484               3524             2960   \n",
       "11      4     O              7551               3981             3570   \n",
       "12      5     O              6348               3260             3088   \n",
       "13      6     O              4062               1948             2114   \n",
       "14      7     O              1870                868             1002   \n",
       "15      8     O              1147                436              711   \n",
       "\n",
       "    2018-total-eng  2018-female-eng  2018-male-eng  \n",
       "8            214.0            123.0           91.0  \n",
       "9           1190.0            634.0          556.0  \n",
       "10          3086.0           1402.0         1684.0  \n",
       "11          4163.0           1707.0         2456.0  \n",
       "12          3328.0           1194.0         2134.0  \n",
       "13          1811.0            539.0         1272.0  \n",
       "14           667.0            172.0          495.0  \n",
       "15           294.0             53.0          241.0  "
      ]
     },
     "execution_count": 20,
     "metadata": {},
     "output_type": "execute_result"
    }
   ],
   "source": [
    "df = pd.read_csv('data/2018lc-math-english.csv')\n",
    "y = df.loc[8:15]\n",
    "y"
   ]
  },
  {
   "cell_type": "code",
   "execution_count": 21,
   "metadata": {},
   "outputs": [],
   "source": [
    "hge = pd.DataFrame(y.loc[:,'2018-female-maths'])\n",
    "hme = pd.DataFrame(y.loc[:,'2018-male-maths'])\n",
    "grade = np.array(y.loc[:, 'Grade'])"
   ]
  },
  {
   "cell_type": "code",
   "execution_count": 22,
   "metadata": {},
   "outputs": [
    {
     "data": {
      "image/png": "[encoded data removed]",
      "text/plain": [
       "<Figure size 432x288 with 1 Axes>"
      ]
     },
     "metadata": {},
     "output_type": "display_data"
    }
   ],
   "source": [
    "plt.title('Maths Results')\n",
    "plt.scatter(grade, hge, label = 'Ordinary Level Girls')\n",
    "plt.scatter(grade, hme, label = 'Ordinary Level Boys')\n",
    "plt.legend()\n",
    "plt.show()"
   ]
  },
  {
   "cell_type": "code",
   "execution_count": 23,
   "metadata": {},
   "outputs": [
    {
     "data": {
      "text/plain": [
       "2018-female-maths    16310\n",
       "dtype: int64"
      ]
     },
     "execution_count": 23,
     "metadata": {},
     "output_type": "execute_result"
    }
   ],
   "source": [
    "totalgirl = np.sum(hge)\n",
    "totalgirl"
   ]
  },
  {
   "cell_type": "code",
   "execution_count": 24,
   "metadata": {},
   "outputs": [
    {
     "data": {
      "text/plain": [
       "2018-male-maths    15026\n",
       "dtype: int64"
      ]
     },
     "execution_count": 24,
     "metadata": {},
     "output_type": "execute_result"
    }
   ],
   "source": [
    "totalboy = np.sum(hme)\n",
    "totalboy"
   ]
  },
  {
   "cell_type": "markdown",
   "metadata": {},
   "source": [
    "More girls than boys take HL English and more achieve Grades 1 - 5. Is this as a result of the fact there's more girls let's look at percentages. "
   ]
  },
  {
   "cell_type": "code",
   "execution_count": 32,
   "metadata": {},
   "outputs": [],
   "source": [
    "bestpupil = y.loc[:, '2018-total-maths']\n",
    "sum_total = np.sum(total)"
   ]
  },
  {
   "cell_type": "code",
   "execution_count": 33,
   "metadata": {},
   "outputs": [
    {
     "name": "stdout",
     "output_type": "stream",
     "text": [
      "8      1.538167\n",
      "9     10.824611\n",
      "10    20.691856\n",
      "11    24.096885\n",
      "12    20.257850\n",
      "13    12.962727\n",
      "14     5.967577\n",
      "15     3.660327\n",
      "Name: 2018-total-maths, dtype: float64\n"
     ]
    }
   ],
   "source": [
    "print(bestpupil/sum_total*100)"
   ]
  },
  {
   "cell_type": "code",
   "execution_count": 62,
   "metadata": {},
   "outputs": [
    {
     "name": "stdout",
     "output_type": "stream",
     "text": [
      "Percentage of Students Awarded an O4:  57.151519\n"
     ]
    }
   ],
   "source": [
    "print('Percentage of Students Awarded an O4: ',1.538167+10.824611+20.691856+24.096885)"
   ]
  },
  {
   "cell_type": "code",
   "execution_count": 27,
   "metadata": {},
   "outputs": [
    {
     "name": "stdout",
     "output_type": "stream",
     "text": [
      "    2018-female-maths\n",
      "8            1.925199\n",
      "9           12.133660\n",
      "10          21.606376\n",
      "11          24.408338\n",
      "12          19.987738\n",
      "13          11.943593\n",
      "14           5.321888\n",
      "15           2.673207\n"
     ]
    }
   ],
   "source": [
    "x = np.arange(0, 8)\n",
    "bestgirl = (hge.iloc[x])\n",
    "print(bestgirl/totalgirl*100)"
   ]
  },
  {
   "cell_type": "code",
   "execution_count": 63,
   "metadata": {},
   "outputs": [
    {
     "name": "stdout",
     "output_type": "stream",
     "text": [
      "Percentage of Female Students Awarded an O4:  60.073573\n"
     ]
    }
   ],
   "source": [
    "print('Percentage of Female Students Awarded an O4: ', 1.925199+12.133660+21.606376+24.408338)"
   ]
  },
  {
   "cell_type": "code",
   "execution_count": 43,
   "metadata": {},
   "outputs": [
    {
     "name": "stdout",
     "output_type": "stream",
     "text": [
      "    2018-male-maths\n",
      "8          1.118062\n",
      "9          9.403700\n",
      "10        19.699188\n",
      "11        23.758818\n",
      "12        20.551045\n",
      "13        14.068947\n",
      "14         6.668441\n",
      "15         4.731798\n"
     ]
    }
   ],
   "source": [
    "bestboy = (hme.iloc[x])\n",
    "print(bestboy/totalboy*100)"
   ]
  },
  {
   "cell_type": "code",
   "execution_count": 61,
   "metadata": {},
   "outputs": [
    {
     "name": "stdout",
     "output_type": "stream",
     "text": [
      "Percentage of Students Awarded an O4:  53.97976800000001\n"
     ]
    }
   ],
   "source": [
    "print('Percentage of Students Awarded an O4: ', 1.118062+9.403700+19.699188+23.758818)"
   ]
  },
  {
   "cell_type": "code",
   "execution_count": 41,
   "metadata": {},
   "outputs": [
    {
     "data": {
      "text/plain": [
       "array([1, 2, 3, 4, 5, 6, 7, 8])"
      ]
     },
     "execution_count": 41,
     "metadata": {},
     "output_type": "execute_result"
    }
   ],
   "source": [
    "grade_nums = np.arange(1, 9)\n",
    "grade_nums"
   ]
  },
  {
   "cell_type": "markdown",
   "metadata": {},
   "source": [
    "As the data I have here, is ordinal and categorical, I can't calculate the mean. From my percentages above, and the fact my data is ordered by descending grade awards, I can see that the median grade for both female and male is an O4.\n",
    "\n",
    "In this year approximately 57% of students were awarded an O4 or higher grade, 60% of female studnets and 54% of male students. "
   ]
  },
  {
   "cell_type": "markdown",
   "metadata": {},
   "source": [
    "From my research, I know that assessment grades are often normally distributed. If I assume that the set of Leaving Cert Results is normally distributed, then I would expect my mean, median and mode to have very similar values. In a perfect normal distribution they would be the same, but that would be unlikely to be the case here. \n"
   ]
  },
  {
   "cell_type": "markdown",
   "metadata": {},
   "source": [
    "## Simulating Data"
   ]
  },
  {
   "cell_type": "code",
   "execution_count": 53,
   "metadata": {},
   "outputs": [],
   "source": [
    "sim_girls = np.round(np.random.normal(340, 110, 100), decimals = 0)\n",
    "sim_girls = np.clip(sim_girls, 0, 600)\n",
    "\n",
    "sim_boys = np.round(np.random.normal(330, 110, 100), decimals = 0)\n",
    "sim_boys = np.clip(sim_boys, 0, 600)"
   ]
  },
  {
   "cell_type": "code",
   "execution_count": 55,
   "metadata": {},
   "outputs": [
    {
     "data": {
      "image/png": "[encoded data removed]",
      "text/plain": [
       "<Figure size 432x288 with 1 Axes>"
      ]
     },
     "metadata": {},
     "output_type": "display_data"
    }
   ],
   "source": [
    "sns.distplot(sim_girls);\n",
    "sns.distplot(sim_boys);"
   ]
  },
  {
   "cell_type": "code",
   "execution_count": 99,
   "metadata": {},
   "outputs": [
    {
     "data": {
      "text/plain": [
       "array([200., 346., 268., 235., 301., 359.,  91., 433., 214., 402., 271.,\n",
       "       241., 327., 359., 303., 148., 269., 469., 337., 219., 342., 384.,\n",
       "       514., 256., 394., 421., 294., 449., 545., 518., 356., 512., 300.,\n",
       "       479., 259., 421., 434., 238., 374., 359., 418., 262., 515., 359.,\n",
       "       332., 600., 309., 450., 342., 272., 357., 526., 318., 151., 247.,\n",
       "       282., 350., 484., 276., 296., 401., 436., 374., 338., 207., 329.,\n",
       "       322., 510., 377., 364., 347., 350., 193., 449., 388., 466., 193.,\n",
       "       465., 440., 261., 296., 470., 301., 252., 508., 186., 369., 480.,\n",
       "       234., 454., 358., 388., 450., 367., 520., 433., 500., 223., 325.,\n",
       "       417.])"
      ]
     },
     "execution_count": 99,
     "metadata": {},
     "output_type": "execute_result"
    }
   ],
   "source": [
    "sim_girls"
   ]
  },
  {
   "cell_type": "code",
   "execution_count": 100,
   "metadata": {},
   "outputs": [
    {
     "data": {
      "text/html": [
       "<div>\n",
       "<style scoped>\n",
       "    .dataframe tbody tr th:only-of-type {\n",
       "        vertical-align: middle;\n",
       "    }\n",
       "\n",
       "    .dataframe tbody tr th {\n",
       "        vertical-align: top;\n",
       "    }\n",
       "\n",
       "    .dataframe thead th {\n",
       "        text-align: right;\n",
       "    }\n",
       "</style>\n",
       "<table border=\"1\" class=\"dataframe\">\n",
       "  <thead>\n",
       "    <tr style=\"text-align: right;\">\n",
       "      <th></th>\n",
       "      <th>Result</th>\n",
       "    </tr>\n",
       "  </thead>\n",
       "  <tbody>\n",
       "    <tr>\n",
       "      <th>0</th>\n",
       "      <td>200.0</td>\n",
       "    </tr>\n",
       "    <tr>\n",
       "      <th>1</th>\n",
       "      <td>346.0</td>\n",
       "    </tr>\n",
       "    <tr>\n",
       "      <th>2</th>\n",
       "      <td>268.0</td>\n",
       "    </tr>\n",
       "    <tr>\n",
       "      <th>3</th>\n",
       "      <td>235.0</td>\n",
       "    </tr>\n",
       "    <tr>\n",
       "      <th>4</th>\n",
       "      <td>301.0</td>\n",
       "    </tr>\n",
       "    <tr>\n",
       "      <th>5</th>\n",
       "      <td>359.0</td>\n",
       "    </tr>\n",
       "    <tr>\n",
       "      <th>6</th>\n",
       "      <td>91.0</td>\n",
       "    </tr>\n",
       "    <tr>\n",
       "      <th>7</th>\n",
       "      <td>433.0</td>\n",
       "    </tr>\n",
       "    <tr>\n",
       "      <th>8</th>\n",
       "      <td>214.0</td>\n",
       "    </tr>\n",
       "    <tr>\n",
       "      <th>9</th>\n",
       "      <td>402.0</td>\n",
       "    </tr>\n",
       "    <tr>\n",
       "      <th>10</th>\n",
       "      <td>271.0</td>\n",
       "    </tr>\n",
       "    <tr>\n",
       "      <th>11</th>\n",
       "      <td>241.0</td>\n",
       "    </tr>\n",
       "    <tr>\n",
       "      <th>12</th>\n",
       "      <td>327.0</td>\n",
       "    </tr>\n",
       "    <tr>\n",
       "      <th>13</th>\n",
       "      <td>359.0</td>\n",
       "    </tr>\n",
       "    <tr>\n",
       "      <th>14</th>\n",
       "      <td>303.0</td>\n",
       "    </tr>\n",
       "    <tr>\n",
       "      <th>15</th>\n",
       "      <td>148.0</td>\n",
       "    </tr>\n",
       "    <tr>\n",
       "      <th>16</th>\n",
       "      <td>269.0</td>\n",
       "    </tr>\n",
       "    <tr>\n",
       "      <th>17</th>\n",
       "      <td>469.0</td>\n",
       "    </tr>\n",
       "    <tr>\n",
       "      <th>18</th>\n",
       "      <td>337.0</td>\n",
       "    </tr>\n",
       "    <tr>\n",
       "      <th>19</th>\n",
       "      <td>219.0</td>\n",
       "    </tr>\n",
       "    <tr>\n",
       "      <th>20</th>\n",
       "      <td>342.0</td>\n",
       "    </tr>\n",
       "    <tr>\n",
       "      <th>21</th>\n",
       "      <td>384.0</td>\n",
       "    </tr>\n",
       "    <tr>\n",
       "      <th>22</th>\n",
       "      <td>514.0</td>\n",
       "    </tr>\n",
       "    <tr>\n",
       "      <th>23</th>\n",
       "      <td>256.0</td>\n",
       "    </tr>\n",
       "    <tr>\n",
       "      <th>24</th>\n",
       "      <td>394.0</td>\n",
       "    </tr>\n",
       "    <tr>\n",
       "      <th>25</th>\n",
       "      <td>421.0</td>\n",
       "    </tr>\n",
       "    <tr>\n",
       "      <th>26</th>\n",
       "      <td>294.0</td>\n",
       "    </tr>\n",
       "    <tr>\n",
       "      <th>27</th>\n",
       "      <td>449.0</td>\n",
       "    </tr>\n",
       "    <tr>\n",
       "      <th>28</th>\n",
       "      <td>545.0</td>\n",
       "    </tr>\n",
       "    <tr>\n",
       "      <th>29</th>\n",
       "      <td>518.0</td>\n",
       "    </tr>\n",
       "    <tr>\n",
       "      <th>...</th>\n",
       "      <td>...</td>\n",
       "    </tr>\n",
       "    <tr>\n",
       "      <th>70</th>\n",
       "      <td>401.0</td>\n",
       "    </tr>\n",
       "    <tr>\n",
       "      <th>71</th>\n",
       "      <td>219.0</td>\n",
       "    </tr>\n",
       "    <tr>\n",
       "      <th>72</th>\n",
       "      <td>369.0</td>\n",
       "    </tr>\n",
       "    <tr>\n",
       "      <th>73</th>\n",
       "      <td>77.0</td>\n",
       "    </tr>\n",
       "    <tr>\n",
       "      <th>74</th>\n",
       "      <td>374.0</td>\n",
       "    </tr>\n",
       "    <tr>\n",
       "      <th>75</th>\n",
       "      <td>506.0</td>\n",
       "    </tr>\n",
       "    <tr>\n",
       "      <th>76</th>\n",
       "      <td>328.0</td>\n",
       "    </tr>\n",
       "    <tr>\n",
       "      <th>77</th>\n",
       "      <td>74.0</td>\n",
       "    </tr>\n",
       "    <tr>\n",
       "      <th>78</th>\n",
       "      <td>337.0</td>\n",
       "    </tr>\n",
       "    <tr>\n",
       "      <th>79</th>\n",
       "      <td>443.0</td>\n",
       "    </tr>\n",
       "    <tr>\n",
       "      <th>80</th>\n",
       "      <td>57.0</td>\n",
       "    </tr>\n",
       "    <tr>\n",
       "      <th>81</th>\n",
       "      <td>307.0</td>\n",
       "    </tr>\n",
       "    <tr>\n",
       "      <th>82</th>\n",
       "      <td>264.0</td>\n",
       "    </tr>\n",
       "    <tr>\n",
       "      <th>83</th>\n",
       "      <td>318.0</td>\n",
       "    </tr>\n",
       "    <tr>\n",
       "      <th>84</th>\n",
       "      <td>464.0</td>\n",
       "    </tr>\n",
       "    <tr>\n",
       "      <th>85</th>\n",
       "      <td>288.0</td>\n",
       "    </tr>\n",
       "    <tr>\n",
       "      <th>86</th>\n",
       "      <td>480.0</td>\n",
       "    </tr>\n",
       "    <tr>\n",
       "      <th>87</th>\n",
       "      <td>403.0</td>\n",
       "    </tr>\n",
       "    <tr>\n",
       "      <th>88</th>\n",
       "      <td>361.0</td>\n",
       "    </tr>\n",
       "    <tr>\n",
       "      <th>89</th>\n",
       "      <td>302.0</td>\n",
       "    </tr>\n",
       "    <tr>\n",
       "      <th>90</th>\n",
       "      <td>345.0</td>\n",
       "    </tr>\n",
       "    <tr>\n",
       "      <th>91</th>\n",
       "      <td>185.0</td>\n",
       "    </tr>\n",
       "    <tr>\n",
       "      <th>92</th>\n",
       "      <td>351.0</td>\n",
       "    </tr>\n",
       "    <tr>\n",
       "      <th>93</th>\n",
       "      <td>167.0</td>\n",
       "    </tr>\n",
       "    <tr>\n",
       "      <th>94</th>\n",
       "      <td>169.0</td>\n",
       "    </tr>\n",
       "    <tr>\n",
       "      <th>95</th>\n",
       "      <td>287.0</td>\n",
       "    </tr>\n",
       "    <tr>\n",
       "      <th>96</th>\n",
       "      <td>410.0</td>\n",
       "    </tr>\n",
       "    <tr>\n",
       "      <th>97</th>\n",
       "      <td>329.0</td>\n",
       "    </tr>\n",
       "    <tr>\n",
       "      <th>98</th>\n",
       "      <td>401.0</td>\n",
       "    </tr>\n",
       "    <tr>\n",
       "      <th>99</th>\n",
       "      <td>600.0</td>\n",
       "    </tr>\n",
       "  </tbody>\n",
       "</table>\n",
       "<p>200 rows × 1 columns</p>\n",
       "</div>"
      ],
      "text/plain": [
       "    Result\n",
       "0    200.0\n",
       "1    346.0\n",
       "2    268.0\n",
       "3    235.0\n",
       "4    301.0\n",
       "5    359.0\n",
       "6     91.0\n",
       "7    433.0\n",
       "8    214.0\n",
       "9    402.0\n",
       "10   271.0\n",
       "11   241.0\n",
       "12   327.0\n",
       "13   359.0\n",
       "14   303.0\n",
       "15   148.0\n",
       "16   269.0\n",
       "17   469.0\n",
       "18   337.0\n",
       "19   219.0\n",
       "20   342.0\n",
       "21   384.0\n",
       "22   514.0\n",
       "23   256.0\n",
       "24   394.0\n",
       "25   421.0\n",
       "26   294.0\n",
       "27   449.0\n",
       "28   545.0\n",
       "29   518.0\n",
       "..     ...\n",
       "70   401.0\n",
       "71   219.0\n",
       "72   369.0\n",
       "73    77.0\n",
       "74   374.0\n",
       "75   506.0\n",
       "76   328.0\n",
       "77    74.0\n",
       "78   337.0\n",
       "79   443.0\n",
       "80    57.0\n",
       "81   307.0\n",
       "82   264.0\n",
       "83   318.0\n",
       "84   464.0\n",
       "85   288.0\n",
       "86   480.0\n",
       "87   403.0\n",
       "88   361.0\n",
       "89   302.0\n",
       "90   345.0\n",
       "91   185.0\n",
       "92   351.0\n",
       "93   167.0\n",
       "94   169.0\n",
       "95   287.0\n",
       "96   410.0\n",
       "97   329.0\n",
       "98   401.0\n",
       "99   600.0\n",
       "\n",
       "[200 rows x 1 columns]"
      ]
     },
     "execution_count": 100,
     "metadata": {},
     "output_type": "execute_result"
    }
   ],
   "source": [
    "df = pd.DataFrame(sim_girls, columns=['Result'])\n",
    "df2 = pd.DataFrame(sim_boys, columns=['Result']);\n",
    "df.append(df2)"
   ]
  },
  {
   "cell_type": "code",
   "execution_count": null,
   "metadata": {},
   "outputs": [],
   "source": []
  }
 ],
 "metadata": {
  "kernelspec": {
   "display_name": "Python 3",
   "language": "python",
   "name": "python3"
  },
  "language_info": {
   "codemirror_mode": {
    "name": "ipython",
    "version": 3
   },
   "file_extension": ".py",
   "mimetype": "text/x-python",
   "name": "python",
   "nbconvert_exporter": "python",
   "pygments_lexer": "ipython3",
   "version": "3.6.5"
  }
 },
 "nbformat": 4,
 "nbformat_minor": 2
}

{
 "cells": [
  {
   "cell_type": "markdown",
   "metadata": {},
   "source": [
    "### Investigation - Attempt 1\n",
    "\n",
    "Looking for nice statistical patterns or distributions of data, using raw data from the CSO. \n",
    "\n",
    "This is just a rough investigation, as I have not finalized my intentions for this project."
   ]
  },
  {
   "cell_type": "code",
   "execution_count": 2,
   "metadata": {
    "scrolled": true
   },
   "outputs": [],
   "source": [
    "import pandas as pd\n",
    "import numpy as np\n",
    "import matplotlib.pyplot as plt\n",
    "import seaborn as sns"
   ]
  },
  {
   "cell_type": "markdown",
   "metadata": {},
   "source": [
    "### Investigating SEC Data"
   ]
  },
  {
   "cell_type": "markdown",
   "metadata": {},
   "source": [
    "#### Leaving Cert Ordinary Level Maths"
   ]
  },
  {
   "cell_type": "markdown",
   "metadata": {},
   "source": [
    "I took some summary statistics from the State Examinations Commission and put that data into a CSV file. This file contains the 2018 Leaving Cert Higher, Ordinary and Foundation Level results by gender, in Maths and English. I initially compared results in different subjects by gender, before settling on Leaving Cert Ordinary Level Maths. \n",
    "\n",
    "I am very familiar with the Leaving Cert Maths course and the factors influencing students attainment. I plan to investigate these factors, and simulate data to determine if my experiences and current research can be modelled effectively."
   ]
  },
  {
   "cell_type": "code",
   "execution_count": 182,
   "metadata": {
    "scrolled": true
   },
   "outputs": [
    {
     "data": {
      "text/html": [
       "<div>\n",
       "<style scoped>\n",
       "    .dataframe tbody tr th:only-of-type {\n",
       "        vertical-align: middle;\n",
       "    }\n",
       "\n",
       "    .dataframe tbody tr th {\n",
       "        vertical-align: top;\n",
       "    }\n",
       "\n",
       "    .dataframe thead th {\n",
       "        text-align: right;\n",
       "    }\n",
       "</style>\n",
       "<table border=\"1\" class=\"dataframe\">\n",
       "  <thead>\n",
       "    <tr style=\"text-align: right;\">\n",
       "      <th></th>\n",
       "      <th>Grade</th>\n",
       "      <th>Level</th>\n",
       "      <th>2018-total-maths</th>\n",
       "      <th>2018-female-maths</th>\n",
       "      <th>2018-male-maths</th>\n",
       "    </tr>\n",
       "  </thead>\n",
       "  <tbody>\n",
       "    <tr>\n",
       "      <th>1</th>\n",
       "      <td>1</td>\n",
       "      <td>O</td>\n",
       "      <td>482</td>\n",
       "      <td>314</td>\n",
       "      <td>168</td>\n",
       "    </tr>\n",
       "    <tr>\n",
       "      <th>2</th>\n",
       "      <td>2</td>\n",
       "      <td>O</td>\n",
       "      <td>3392</td>\n",
       "      <td>1979</td>\n",
       "      <td>1413</td>\n",
       "    </tr>\n",
       "    <tr>\n",
       "      <th>3</th>\n",
       "      <td>3</td>\n",
       "      <td>O</td>\n",
       "      <td>6484</td>\n",
       "      <td>3524</td>\n",
       "      <td>2960</td>\n",
       "    </tr>\n",
       "    <tr>\n",
       "      <th>4</th>\n",
       "      <td>4</td>\n",
       "      <td>O</td>\n",
       "      <td>7551</td>\n",
       "      <td>3981</td>\n",
       "      <td>3570</td>\n",
       "    </tr>\n",
       "    <tr>\n",
       "      <th>5</th>\n",
       "      <td>5</td>\n",
       "      <td>O</td>\n",
       "      <td>6348</td>\n",
       "      <td>3260</td>\n",
       "      <td>3088</td>\n",
       "    </tr>\n",
       "    <tr>\n",
       "      <th>6</th>\n",
       "      <td>6</td>\n",
       "      <td>O</td>\n",
       "      <td>4062</td>\n",
       "      <td>1948</td>\n",
       "      <td>2114</td>\n",
       "    </tr>\n",
       "    <tr>\n",
       "      <th>7</th>\n",
       "      <td>7</td>\n",
       "      <td>O</td>\n",
       "      <td>1870</td>\n",
       "      <td>868</td>\n",
       "      <td>1002</td>\n",
       "    </tr>\n",
       "    <tr>\n",
       "      <th>8</th>\n",
       "      <td>8</td>\n",
       "      <td>O</td>\n",
       "      <td>1147</td>\n",
       "      <td>436</td>\n",
       "      <td>711</td>\n",
       "    </tr>\n",
       "  </tbody>\n",
       "</table>\n",
       "</div>"
      ],
      "text/plain": [
       "   Grade Level  2018-total-maths  2018-female-maths  2018-male-maths\n",
       "1      1     O               482                314              168\n",
       "2      2     O              3392               1979             1413\n",
       "3      3     O              6484               3524             2960\n",
       "4      4     O              7551               3981             3570\n",
       "5      5     O              6348               3260             3088\n",
       "6      6     O              4062               1948             2114\n",
       "7      7     O              1870                868             1002\n",
       "8      8     O              1147                436              711"
      ]
     },
     "execution_count": 182,
     "metadata": {},
     "output_type": "execute_result"
    }
   ],
   "source": [
    "#Read SEC Data\n",
    "df = pd.read_csv('data/2018lc-math-english.csv')\n",
    "#Select Rows 8 to 15 and Columns 0 to 5\n",
    "y = df.loc[8:15]\n",
    "\n",
    "y = y.iloc[:, 0:5]\n",
    "#Get rid of the existing index and replace with 1 to 9\n",
    "#Now the index will match grade categories \n",
    "y = y.reset_index(drop = True)\n",
    "y = y.set_index(np.arange(1, 9))\n",
    "#Show df table\n",
    "y"
   ]
  },
  {
   "cell_type": "code",
   "execution_count": 164,
   "metadata": {
    "scrolled": true
   },
   "outputs": [],
   "source": [
    "# Creating df for female and male students, and grades\n",
    "fem_mat = pd.DataFrame(y.loc[:,'2018-female-maths'])\n",
    "mal_mat = pd.DataFrame(y.loc[:,'2018-male-maths'])\n",
    "grade = np.array(y.loc[:, 'Grade'])"
   ]
  },
  {
   "cell_type": "code",
   "execution_count": 165,
   "metadata": {
    "scrolled": true
   },
   "outputs": [
    {
     "data": {
      "image/png": "[encoded data removed]",
      "text/plain": [
       "<Figure size 432x288 with 1 Axes>"
      ]
     },
     "metadata": {},
     "output_type": "display_data"
    }
   ],
   "source": [
    "plt.title('Maths Results')\n",
    "plt.plot(grade, fem_mat, label = 'Ordinary Level Girls')\n",
    "plt.plot(grade, mal_mat, label = 'Ordinary Level Boys')\n",
    "plt.legend()\n",
    "plt.show()"
   ]
  },
  {
   "cell_type": "code",
   "execution_count": 166,
   "metadata": {
    "scrolled": true
   },
   "outputs": [
    {
     "data": {
      "text/plain": [
       "2018-female-maths    16310\n",
       "dtype: int64"
      ]
     },
     "execution_count": 166,
     "metadata": {},
     "output_type": "execute_result"
    }
   ],
   "source": [
    "# How many girls sat LCOL in 2018\n",
    "totalgirl = np.sum(fem_mat)\n",
    "totalgirl"
   ]
  },
  {
   "cell_type": "code",
   "execution_count": 167,
   "metadata": {
    "scrolled": true
   },
   "outputs": [
    {
     "data": {
      "text/plain": [
       "2018-male-maths    15026\n",
       "dtype: int64"
      ]
     },
     "execution_count": 167,
     "metadata": {},
     "output_type": "execute_result"
    }
   ],
   "source": [
    "# How many boys sat LCOL in 2018\n",
    "totalboy = np.sum(mal_mat)\n",
    "totalboy"
   ]
  },
  {
   "cell_type": "code",
   "execution_count": 173,
   "metadata": {
    "scrolled": true
   },
   "outputs": [
    {
     "data": {
      "text/plain": [
       "31336"
      ]
     },
     "execution_count": 173,
     "metadata": {},
     "output_type": "execute_result"
    }
   ],
   "source": [
    "# Total number of LCOL candidates\n",
    "bestpupil = y.loc[:, '2018-total-maths']\n",
    "sum_total = np.sum(bestpupil)\n",
    "sum_total"
   ]
  },
  {
   "cell_type": "code",
   "execution_count": 174,
   "metadata": {
    "scrolled": true
   },
   "outputs": [
    {
     "name": "stdout",
     "output_type": "stream",
     "text": [
      "1     1.538167\n",
      "2    10.824611\n",
      "3    20.691856\n",
      "4    24.096885\n",
      "5    20.257850\n",
      "6    12.962727\n",
      "7     5.967577\n",
      "8     3.660327\n",
      "Name: 2018-total-maths, dtype: float64\n"
     ]
    }
   ],
   "source": [
    "# Percentage of students achieving each grade\n",
    "# Note (8 - 15) corresponds to grades (1-8)\n",
    "print(bestpupil/sum_total*100)"
   ]
  },
  {
   "cell_type": "code",
   "execution_count": 175,
   "metadata": {
    "scrolled": true
   },
   "outputs": [
    {
     "name": "stdout",
     "output_type": "stream",
     "text": [
      "Percentage of Students Awarded an O4 or higher grade:  57.151519\n"
     ]
    }
   ],
   "source": [
    "print('Percentage of Students Awarded an O4 or higher grade: ',1.538167+10.824611+20.691856+24.096885)"
   ]
  },
  {
   "cell_type": "code",
   "execution_count": 184,
   "metadata": {},
   "outputs": [],
   "source": [
    "# Set x to be in the range 0 - 8\n",
    "x = np.arange(0, 8)"
   ]
  },
  {
   "cell_type": "code",
   "execution_count": 177,
   "metadata": {
    "scrolled": true
   },
   "outputs": [
    {
     "name": "stdout",
     "output_type": "stream",
     "text": [
      "   2018-female-maths\n",
      "1           1.925199\n",
      "2          12.133660\n",
      "3          21.606376\n",
      "4          24.408338\n",
      "5          19.987738\n",
      "6          11.943593\n",
      "7           5.321888\n",
      "8           2.673207\n"
     ]
    }
   ],
   "source": [
    "bestgirl = (fem_mat.iloc[x])\n",
    "print(bestgirl/totalgirl*100)"
   ]
  },
  {
   "cell_type": "code",
   "execution_count": 178,
   "metadata": {
    "scrolled": true
   },
   "outputs": [
    {
     "name": "stdout",
     "output_type": "stream",
     "text": [
      "Percentage of Female Students Awarded an O4 or higher grade:  60.073573\n"
     ]
    }
   ],
   "source": [
    "print('Percentage of Female Students Awarded an O4 or higher grade: ', 1.925199+12.133660+21.606376+24.408338)"
   ]
  },
  {
   "cell_type": "code",
   "execution_count": 179,
   "metadata": {
    "scrolled": true
   },
   "outputs": [
    {
     "name": "stdout",
     "output_type": "stream",
     "text": [
      "   2018-male-maths\n",
      "1         1.118062\n",
      "2         9.403700\n",
      "3        19.699188\n",
      "4        23.758818\n",
      "5        20.551045\n",
      "6        14.068947\n",
      "7         6.668441\n",
      "8         4.731798\n"
     ]
    }
   ],
   "source": [
    "bestboy = (mal_mat.iloc[x])\n",
    "print(bestboy/totalboy*100)"
   ]
  },
  {
   "cell_type": "code",
   "execution_count": 180,
   "metadata": {
    "scrolled": true
   },
   "outputs": [
    {
     "name": "stdout",
     "output_type": "stream",
     "text": [
      "Percentage of Students Awarded an O4 or higher grade:  53.97976800000001\n"
     ]
    }
   ],
   "source": [
    "print('Percentage of Students Awarded an O4 or higher grade: ', 1.118062+9.403700+19.699188+23.758818)"
   ]
  },
  {
   "cell_type": "markdown",
   "metadata": {},
   "source": [
    "As the data I have here, is ordinal and categorical, I can't calculate the mean. From my percentages above, and the fact my data is ordered by descending grade awards, I can see that the median grade for both female and male is an O4.\n",
    "\n",
    "In this year approximately 57% of students were awarded an O4 or higher grade. 60% of female students received 04 or higher grades, and 54% of male students. "
   ]
  },
  {
   "cell_type": "markdown",
   "metadata": {},
   "source": [
    "## Simulating Data"
   ]
  },
  {
   "cell_type": "markdown",
   "metadata": {},
   "source": [
    "From my experience working in the education sector, I know that assessment grades are often normally distributed. \n",
    "\n",
    "If I assume that the set of Leaving Cert Results are normally distributed, then I would expect my mean, median and mode to have very similar values. In a perfect normal distribution they would be the same, but that would be unlikely to be the case here. So I can use the median O4 grade, observed in my investigation, to make inferences about a possible mean, and use this to generate normally distributed data."
   ]
  },
  {
   "cell_type": "code",
   "execution_count": 74,
   "metadata": {
    "scrolled": true
   },
   "outputs": [],
   "source": [
    "# Generate random female results with mean in the high O4 interval\n",
    "sim_girls = np.round(np.random.normal(400, 90, 100), decimals = 0)\n",
    "sim_girls = np.clip(sim_girls, 0, 600)\n",
    "\n",
    "#Generate random male results with mean in the low O4 interval\n",
    "sim_boys = np.round(np.random.normal(360, 90, 100), decimals = 0)\n",
    "sim_boys = np.clip(sim_boys, 0, 600)\n"
   ]
  },
  {
   "cell_type": "code",
   "execution_count": 75,
   "metadata": {
    "scrolled": true
   },
   "outputs": [
    {
     "data": {
      "image/png": "[encoded data removed]",
      "text/plain": [
       "<Figure size 432x288 with 1 Axes>"
      ]
     },
     "metadata": {},
     "output_type": "display_data"
    }
   ],
   "source": [
    "#Graphically display data to look for errors\n",
    "#Such as results over 600 or under 0\n",
    "# No fails etc.\n",
    "sns.distplot(sim_girls, label = 'Female');\n",
    "sns.distplot(sim_boys, label = 'Male');\n",
    "plt.legend();\n"
   ]
  },
  {
   "cell_type": "code",
   "execution_count": 76,
   "metadata": {
    "scrolled": true
   },
   "outputs": [],
   "source": [
    "#Adding simulated data to data frame(female)\n",
    "df = pd.DataFrame(sim_girls, columns=['Result'])\n",
    "#Adding simulated data to df(male)\n",
    "df2 = pd.DataFrame(sim_boys, columns=['Result'])\n",
    "#Combining both datasets in same column of the same df\n",
    "#Note this df has only one col, Result\n",
    "df = df.append(df2, ignore_index=True)"
   ]
  },
  {
   "cell_type": "code",
   "execution_count": 77,
   "metadata": {
    "scrolled": true
   },
   "outputs": [],
   "source": [
    "#Cutting and assigning label to existing df col, Result\n",
    "c = pd.cut(\n",
    "    df.stack(), [0, 180, 240, 300, 360,  420, 480, 540, 600], \n",
    "    labels=['08', 'O7', 'O6', 'O5', 'O4', 'O3', 'O2', 'O1'])\n",
    "#Create df, df2, with two cols, Result and Result_grade\n",
    "df2 = pd.DataFrame(df.join(c.unstack().add_suffix('_grade')))\n",
    "\n",
    "#Taking the Result_grade column only, name it df2\n",
    "df2 = pd.Series.to_frame(df2.loc[:, 'Result_grade'])\n",
    "#Reference:https://stackoverflow.com/questions/44659040/pandas-assign-category-based-on-where-value-falls-in-range"
   ]
  },
  {
   "cell_type": "code",
   "execution_count": 78,
   "metadata": {
    "scrolled": true
   },
   "outputs": [],
   "source": [
    "# Generating dfs with 100 repeated strings, first female, then male\n",
    "string_female = pd.DataFrame(['female']*100)\n",
    "string_male = pd.DataFrame(['male']*100)\n",
    "# Combining both dfs to the same df column, named gender\n",
    "gender = string_female.append(string_male, ignore_index=True)"
   ]
  },
  {
   "cell_type": "code",
   "execution_count": 79,
   "metadata": {
    "scrolled": true
   },
   "outputs": [],
   "source": [
    "# Adding gender col to existing df\n",
    "df['Gender'] = gender"
   ]
  },
  {
   "cell_type": "code",
   "execution_count": 80,
   "metadata": {
    "scrolled": true
   },
   "outputs": [
    {
     "data": {
      "text/html": [
       "<div>\n",
       "<style scoped>\n",
       "    .dataframe tbody tr th:only-of-type {\n",
       "        vertical-align: middle;\n",
       "    }\n",
       "\n",
       "    .dataframe tbody tr th {\n",
       "        vertical-align: top;\n",
       "    }\n",
       "\n",
       "    .dataframe thead th {\n",
       "        text-align: right;\n",
       "    }\n",
       "</style>\n",
       "<table border=\"1\" class=\"dataframe\">\n",
       "  <thead>\n",
       "    <tr style=\"text-align: right;\">\n",
       "      <th></th>\n",
       "      <th>Result</th>\n",
       "      <th>Gender</th>\n",
       "    </tr>\n",
       "  </thead>\n",
       "  <tbody>\n",
       "    <tr>\n",
       "      <th>0</th>\n",
       "      <td>302.0</td>\n",
       "      <td>female</td>\n",
       "    </tr>\n",
       "    <tr>\n",
       "      <th>1</th>\n",
       "      <td>332.0</td>\n",
       "      <td>female</td>\n",
       "    </tr>\n",
       "    <tr>\n",
       "      <th>2</th>\n",
       "      <td>303.0</td>\n",
       "      <td>female</td>\n",
       "    </tr>\n",
       "    <tr>\n",
       "      <th>3</th>\n",
       "      <td>291.0</td>\n",
       "      <td>female</td>\n",
       "    </tr>\n",
       "    <tr>\n",
       "      <th>4</th>\n",
       "      <td>350.0</td>\n",
       "      <td>female</td>\n",
       "    </tr>\n",
       "    <tr>\n",
       "      <th>5</th>\n",
       "      <td>234.0</td>\n",
       "      <td>female</td>\n",
       "    </tr>\n",
       "    <tr>\n",
       "      <th>6</th>\n",
       "      <td>336.0</td>\n",
       "      <td>female</td>\n",
       "    </tr>\n",
       "    <tr>\n",
       "      <th>7</th>\n",
       "      <td>311.0</td>\n",
       "      <td>female</td>\n",
       "    </tr>\n",
       "    <tr>\n",
       "      <th>8</th>\n",
       "      <td>295.0</td>\n",
       "      <td>female</td>\n",
       "    </tr>\n",
       "    <tr>\n",
       "      <th>9</th>\n",
       "      <td>405.0</td>\n",
       "      <td>female</td>\n",
       "    </tr>\n",
       "    <tr>\n",
       "      <th>10</th>\n",
       "      <td>359.0</td>\n",
       "      <td>female</td>\n",
       "    </tr>\n",
       "    <tr>\n",
       "      <th>11</th>\n",
       "      <td>397.0</td>\n",
       "      <td>female</td>\n",
       "    </tr>\n",
       "    <tr>\n",
       "      <th>12</th>\n",
       "      <td>166.0</td>\n",
       "      <td>female</td>\n",
       "    </tr>\n",
       "    <tr>\n",
       "      <th>13</th>\n",
       "      <td>335.0</td>\n",
       "      <td>female</td>\n",
       "    </tr>\n",
       "    <tr>\n",
       "      <th>14</th>\n",
       "      <td>411.0</td>\n",
       "      <td>female</td>\n",
       "    </tr>\n",
       "    <tr>\n",
       "      <th>15</th>\n",
       "      <td>397.0</td>\n",
       "      <td>female</td>\n",
       "    </tr>\n",
       "    <tr>\n",
       "      <th>16</th>\n",
       "      <td>433.0</td>\n",
       "      <td>female</td>\n",
       "    </tr>\n",
       "    <tr>\n",
       "      <th>17</th>\n",
       "      <td>446.0</td>\n",
       "      <td>female</td>\n",
       "    </tr>\n",
       "    <tr>\n",
       "      <th>18</th>\n",
       "      <td>383.0</td>\n",
       "      <td>female</td>\n",
       "    </tr>\n",
       "    <tr>\n",
       "      <th>19</th>\n",
       "      <td>600.0</td>\n",
       "      <td>female</td>\n",
       "    </tr>\n",
       "    <tr>\n",
       "      <th>20</th>\n",
       "      <td>217.0</td>\n",
       "      <td>female</td>\n",
       "    </tr>\n",
       "    <tr>\n",
       "      <th>21</th>\n",
       "      <td>341.0</td>\n",
       "      <td>female</td>\n",
       "    </tr>\n",
       "    <tr>\n",
       "      <th>22</th>\n",
       "      <td>394.0</td>\n",
       "      <td>female</td>\n",
       "    </tr>\n",
       "    <tr>\n",
       "      <th>23</th>\n",
       "      <td>595.0</td>\n",
       "      <td>female</td>\n",
       "    </tr>\n",
       "    <tr>\n",
       "      <th>24</th>\n",
       "      <td>355.0</td>\n",
       "      <td>female</td>\n",
       "    </tr>\n",
       "    <tr>\n",
       "      <th>25</th>\n",
       "      <td>473.0</td>\n",
       "      <td>female</td>\n",
       "    </tr>\n",
       "    <tr>\n",
       "      <th>26</th>\n",
       "      <td>357.0</td>\n",
       "      <td>female</td>\n",
       "    </tr>\n",
       "    <tr>\n",
       "      <th>27</th>\n",
       "      <td>580.0</td>\n",
       "      <td>female</td>\n",
       "    </tr>\n",
       "    <tr>\n",
       "      <th>28</th>\n",
       "      <td>358.0</td>\n",
       "      <td>female</td>\n",
       "    </tr>\n",
       "    <tr>\n",
       "      <th>29</th>\n",
       "      <td>527.0</td>\n",
       "      <td>female</td>\n",
       "    </tr>\n",
       "    <tr>\n",
       "      <th>...</th>\n",
       "      <td>...</td>\n",
       "      <td>...</td>\n",
       "    </tr>\n",
       "    <tr>\n",
       "      <th>170</th>\n",
       "      <td>382.0</td>\n",
       "      <td>male</td>\n",
       "    </tr>\n",
       "    <tr>\n",
       "      <th>171</th>\n",
       "      <td>353.0</td>\n",
       "      <td>male</td>\n",
       "    </tr>\n",
       "    <tr>\n",
       "      <th>172</th>\n",
       "      <td>557.0</td>\n",
       "      <td>male</td>\n",
       "    </tr>\n",
       "    <tr>\n",
       "      <th>173</th>\n",
       "      <td>379.0</td>\n",
       "      <td>male</td>\n",
       "    </tr>\n",
       "    <tr>\n",
       "      <th>174</th>\n",
       "      <td>352.0</td>\n",
       "      <td>male</td>\n",
       "    </tr>\n",
       "    <tr>\n",
       "      <th>175</th>\n",
       "      <td>252.0</td>\n",
       "      <td>male</td>\n",
       "    </tr>\n",
       "    <tr>\n",
       "      <th>176</th>\n",
       "      <td>349.0</td>\n",
       "      <td>male</td>\n",
       "    </tr>\n",
       "    <tr>\n",
       "      <th>177</th>\n",
       "      <td>330.0</td>\n",
       "      <td>male</td>\n",
       "    </tr>\n",
       "    <tr>\n",
       "      <th>178</th>\n",
       "      <td>173.0</td>\n",
       "      <td>male</td>\n",
       "    </tr>\n",
       "    <tr>\n",
       "      <th>179</th>\n",
       "      <td>552.0</td>\n",
       "      <td>male</td>\n",
       "    </tr>\n",
       "    <tr>\n",
       "      <th>180</th>\n",
       "      <td>250.0</td>\n",
       "      <td>male</td>\n",
       "    </tr>\n",
       "    <tr>\n",
       "      <th>181</th>\n",
       "      <td>206.0</td>\n",
       "      <td>male</td>\n",
       "    </tr>\n",
       "    <tr>\n",
       "      <th>182</th>\n",
       "      <td>272.0</td>\n",
       "      <td>male</td>\n",
       "    </tr>\n",
       "    <tr>\n",
       "      <th>183</th>\n",
       "      <td>383.0</td>\n",
       "      <td>male</td>\n",
       "    </tr>\n",
       "    <tr>\n",
       "      <th>184</th>\n",
       "      <td>519.0</td>\n",
       "      <td>male</td>\n",
       "    </tr>\n",
       "    <tr>\n",
       "      <th>185</th>\n",
       "      <td>391.0</td>\n",
       "      <td>male</td>\n",
       "    </tr>\n",
       "    <tr>\n",
       "      <th>186</th>\n",
       "      <td>336.0</td>\n",
       "      <td>male</td>\n",
       "    </tr>\n",
       "    <tr>\n",
       "      <th>187</th>\n",
       "      <td>485.0</td>\n",
       "      <td>male</td>\n",
       "    </tr>\n",
       "    <tr>\n",
       "      <th>188</th>\n",
       "      <td>396.0</td>\n",
       "      <td>male</td>\n",
       "    </tr>\n",
       "    <tr>\n",
       "      <th>189</th>\n",
       "      <td>218.0</td>\n",
       "      <td>male</td>\n",
       "    </tr>\n",
       "    <tr>\n",
       "      <th>190</th>\n",
       "      <td>376.0</td>\n",
       "      <td>male</td>\n",
       "    </tr>\n",
       "    <tr>\n",
       "      <th>191</th>\n",
       "      <td>286.0</td>\n",
       "      <td>male</td>\n",
       "    </tr>\n",
       "    <tr>\n",
       "      <th>192</th>\n",
       "      <td>327.0</td>\n",
       "      <td>male</td>\n",
       "    </tr>\n",
       "    <tr>\n",
       "      <th>193</th>\n",
       "      <td>407.0</td>\n",
       "      <td>male</td>\n",
       "    </tr>\n",
       "    <tr>\n",
       "      <th>194</th>\n",
       "      <td>527.0</td>\n",
       "      <td>male</td>\n",
       "    </tr>\n",
       "    <tr>\n",
       "      <th>195</th>\n",
       "      <td>337.0</td>\n",
       "      <td>male</td>\n",
       "    </tr>\n",
       "    <tr>\n",
       "      <th>196</th>\n",
       "      <td>214.0</td>\n",
       "      <td>male</td>\n",
       "    </tr>\n",
       "    <tr>\n",
       "      <th>197</th>\n",
       "      <td>271.0</td>\n",
       "      <td>male</td>\n",
       "    </tr>\n",
       "    <tr>\n",
       "      <th>198</th>\n",
       "      <td>524.0</td>\n",
       "      <td>male</td>\n",
       "    </tr>\n",
       "    <tr>\n",
       "      <th>199</th>\n",
       "      <td>415.0</td>\n",
       "      <td>male</td>\n",
       "    </tr>\n",
       "  </tbody>\n",
       "</table>\n",
       "<p>200 rows × 2 columns</p>\n",
       "</div>"
      ],
      "text/plain": [
       "     Result  Gender\n",
       "0     302.0  female\n",
       "1     332.0  female\n",
       "2     303.0  female\n",
       "3     291.0  female\n",
       "4     350.0  female\n",
       "5     234.0  female\n",
       "6     336.0  female\n",
       "7     311.0  female\n",
       "8     295.0  female\n",
       "9     405.0  female\n",
       "10    359.0  female\n",
       "11    397.0  female\n",
       "12    166.0  female\n",
       "13    335.0  female\n",
       "14    411.0  female\n",
       "15    397.0  female\n",
       "16    433.0  female\n",
       "17    446.0  female\n",
       "18    383.0  female\n",
       "19    600.0  female\n",
       "20    217.0  female\n",
       "21    341.0  female\n",
       "22    394.0  female\n",
       "23    595.0  female\n",
       "24    355.0  female\n",
       "25    473.0  female\n",
       "26    357.0  female\n",
       "27    580.0  female\n",
       "28    358.0  female\n",
       "29    527.0  female\n",
       "..      ...     ...\n",
       "170   382.0    male\n",
       "171   353.0    male\n",
       "172   557.0    male\n",
       "173   379.0    male\n",
       "174   352.0    male\n",
       "175   252.0    male\n",
       "176   349.0    male\n",
       "177   330.0    male\n",
       "178   173.0    male\n",
       "179   552.0    male\n",
       "180   250.0    male\n",
       "181   206.0    male\n",
       "182   272.0    male\n",
       "183   383.0    male\n",
       "184   519.0    male\n",
       "185   391.0    male\n",
       "186   336.0    male\n",
       "187   485.0    male\n",
       "188   396.0    male\n",
       "189   218.0    male\n",
       "190   376.0    male\n",
       "191   286.0    male\n",
       "192   327.0    male\n",
       "193   407.0    male\n",
       "194   527.0    male\n",
       "195   337.0    male\n",
       "196   214.0    male\n",
       "197   271.0    male\n",
       "198   524.0    male\n",
       "199   415.0    male\n",
       "\n",
       "[200 rows x 2 columns]"
      ]
     },
     "execution_count": 80,
     "metadata": {},
     "output_type": "execute_result"
    }
   ],
   "source": [
    "df"
   ]
  },
  {
   "cell_type": "code",
   "execution_count": 81,
   "metadata": {
    "scrolled": true
   },
   "outputs": [
    {
     "data": {
      "text/html": [
       "<div>\n",
       "<style scoped>\n",
       "    .dataframe tbody tr th:only-of-type {\n",
       "        vertical-align: middle;\n",
       "    }\n",
       "\n",
       "    .dataframe tbody tr th {\n",
       "        vertical-align: top;\n",
       "    }\n",
       "\n",
       "    .dataframe thead th {\n",
       "        text-align: right;\n",
       "    }\n",
       "</style>\n",
       "<table border=\"1\" class=\"dataframe\">\n",
       "  <thead>\n",
       "    <tr style=\"text-align: right;\">\n",
       "      <th></th>\n",
       "      <th>Result</th>\n",
       "      <th>Gender</th>\n",
       "      <th>Result_grade</th>\n",
       "    </tr>\n",
       "  </thead>\n",
       "  <tbody>\n",
       "    <tr>\n",
       "      <th>0</th>\n",
       "      <td>302.0</td>\n",
       "      <td>female</td>\n",
       "      <td>O5</td>\n",
       "    </tr>\n",
       "    <tr>\n",
       "      <th>1</th>\n",
       "      <td>332.0</td>\n",
       "      <td>female</td>\n",
       "      <td>O5</td>\n",
       "    </tr>\n",
       "    <tr>\n",
       "      <th>2</th>\n",
       "      <td>303.0</td>\n",
       "      <td>female</td>\n",
       "      <td>O5</td>\n",
       "    </tr>\n",
       "    <tr>\n",
       "      <th>3</th>\n",
       "      <td>291.0</td>\n",
       "      <td>female</td>\n",
       "      <td>O6</td>\n",
       "    </tr>\n",
       "    <tr>\n",
       "      <th>4</th>\n",
       "      <td>350.0</td>\n",
       "      <td>female</td>\n",
       "      <td>O5</td>\n",
       "    </tr>\n",
       "    <tr>\n",
       "      <th>5</th>\n",
       "      <td>234.0</td>\n",
       "      <td>female</td>\n",
       "      <td>O7</td>\n",
       "    </tr>\n",
       "    <tr>\n",
       "      <th>6</th>\n",
       "      <td>336.0</td>\n",
       "      <td>female</td>\n",
       "      <td>O5</td>\n",
       "    </tr>\n",
       "    <tr>\n",
       "      <th>7</th>\n",
       "      <td>311.0</td>\n",
       "      <td>female</td>\n",
       "      <td>O5</td>\n",
       "    </tr>\n",
       "    <tr>\n",
       "      <th>8</th>\n",
       "      <td>295.0</td>\n",
       "      <td>female</td>\n",
       "      <td>O6</td>\n",
       "    </tr>\n",
       "    <tr>\n",
       "      <th>9</th>\n",
       "      <td>405.0</td>\n",
       "      <td>female</td>\n",
       "      <td>O4</td>\n",
       "    </tr>\n",
       "    <tr>\n",
       "      <th>10</th>\n",
       "      <td>359.0</td>\n",
       "      <td>female</td>\n",
       "      <td>O5</td>\n",
       "    </tr>\n",
       "    <tr>\n",
       "      <th>11</th>\n",
       "      <td>397.0</td>\n",
       "      <td>female</td>\n",
       "      <td>O4</td>\n",
       "    </tr>\n",
       "    <tr>\n",
       "      <th>12</th>\n",
       "      <td>166.0</td>\n",
       "      <td>female</td>\n",
       "      <td>08</td>\n",
       "    </tr>\n",
       "    <tr>\n",
       "      <th>13</th>\n",
       "      <td>335.0</td>\n",
       "      <td>female</td>\n",
       "      <td>O5</td>\n",
       "    </tr>\n",
       "    <tr>\n",
       "      <th>14</th>\n",
       "      <td>411.0</td>\n",
       "      <td>female</td>\n",
       "      <td>O4</td>\n",
       "    </tr>\n",
       "    <tr>\n",
       "      <th>15</th>\n",
       "      <td>397.0</td>\n",
       "      <td>female</td>\n",
       "      <td>O4</td>\n",
       "    </tr>\n",
       "    <tr>\n",
       "      <th>16</th>\n",
       "      <td>433.0</td>\n",
       "      <td>female</td>\n",
       "      <td>O3</td>\n",
       "    </tr>\n",
       "    <tr>\n",
       "      <th>17</th>\n",
       "      <td>446.0</td>\n",
       "      <td>female</td>\n",
       "      <td>O3</td>\n",
       "    </tr>\n",
       "    <tr>\n",
       "      <th>18</th>\n",
       "      <td>383.0</td>\n",
       "      <td>female</td>\n",
       "      <td>O4</td>\n",
       "    </tr>\n",
       "    <tr>\n",
       "      <th>19</th>\n",
       "      <td>600.0</td>\n",
       "      <td>female</td>\n",
       "      <td>O1</td>\n",
       "    </tr>\n",
       "    <tr>\n",
       "      <th>20</th>\n",
       "      <td>217.0</td>\n",
       "      <td>female</td>\n",
       "      <td>O7</td>\n",
       "    </tr>\n",
       "    <tr>\n",
       "      <th>21</th>\n",
       "      <td>341.0</td>\n",
       "      <td>female</td>\n",
       "      <td>O5</td>\n",
       "    </tr>\n",
       "    <tr>\n",
       "      <th>22</th>\n",
       "      <td>394.0</td>\n",
       "      <td>female</td>\n",
       "      <td>O4</td>\n",
       "    </tr>\n",
       "    <tr>\n",
       "      <th>23</th>\n",
       "      <td>595.0</td>\n",
       "      <td>female</td>\n",
       "      <td>O1</td>\n",
       "    </tr>\n",
       "    <tr>\n",
       "      <th>24</th>\n",
       "      <td>355.0</td>\n",
       "      <td>female</td>\n",
       "      <td>O5</td>\n",
       "    </tr>\n",
       "    <tr>\n",
       "      <th>25</th>\n",
       "      <td>473.0</td>\n",
       "      <td>female</td>\n",
       "      <td>O3</td>\n",
       "    </tr>\n",
       "    <tr>\n",
       "      <th>26</th>\n",
       "      <td>357.0</td>\n",
       "      <td>female</td>\n",
       "      <td>O5</td>\n",
       "    </tr>\n",
       "    <tr>\n",
       "      <th>27</th>\n",
       "      <td>580.0</td>\n",
       "      <td>female</td>\n",
       "      <td>O1</td>\n",
       "    </tr>\n",
       "    <tr>\n",
       "      <th>28</th>\n",
       "      <td>358.0</td>\n",
       "      <td>female</td>\n",
       "      <td>O5</td>\n",
       "    </tr>\n",
       "    <tr>\n",
       "      <th>29</th>\n",
       "      <td>527.0</td>\n",
       "      <td>female</td>\n",
       "      <td>O2</td>\n",
       "    </tr>\n",
       "    <tr>\n",
       "      <th>...</th>\n",
       "      <td>...</td>\n",
       "      <td>...</td>\n",
       "      <td>...</td>\n",
       "    </tr>\n",
       "    <tr>\n",
       "      <th>170</th>\n",
       "      <td>382.0</td>\n",
       "      <td>male</td>\n",
       "      <td>O4</td>\n",
       "    </tr>\n",
       "    <tr>\n",
       "      <th>171</th>\n",
       "      <td>353.0</td>\n",
       "      <td>male</td>\n",
       "      <td>O5</td>\n",
       "    </tr>\n",
       "    <tr>\n",
       "      <th>172</th>\n",
       "      <td>557.0</td>\n",
       "      <td>male</td>\n",
       "      <td>O1</td>\n",
       "    </tr>\n",
       "    <tr>\n",
       "      <th>173</th>\n",
       "      <td>379.0</td>\n",
       "      <td>male</td>\n",
       "      <td>O4</td>\n",
       "    </tr>\n",
       "    <tr>\n",
       "      <th>174</th>\n",
       "      <td>352.0</td>\n",
       "      <td>male</td>\n",
       "      <td>O5</td>\n",
       "    </tr>\n",
       "    <tr>\n",
       "      <th>175</th>\n",
       "      <td>252.0</td>\n",
       "      <td>male</td>\n",
       "      <td>O6</td>\n",
       "    </tr>\n",
       "    <tr>\n",
       "      <th>176</th>\n",
       "      <td>349.0</td>\n",
       "      <td>male</td>\n",
       "      <td>O5</td>\n",
       "    </tr>\n",
       "    <tr>\n",
       "      <th>177</th>\n",
       "      <td>330.0</td>\n",
       "      <td>male</td>\n",
       "      <td>O5</td>\n",
       "    </tr>\n",
       "    <tr>\n",
       "      <th>178</th>\n",
       "      <td>173.0</td>\n",
       "      <td>male</td>\n",
       "      <td>08</td>\n",
       "    </tr>\n",
       "    <tr>\n",
       "      <th>179</th>\n",
       "      <td>552.0</td>\n",
       "      <td>male</td>\n",
       "      <td>O1</td>\n",
       "    </tr>\n",
       "    <tr>\n",
       "      <th>180</th>\n",
       "      <td>250.0</td>\n",
       "      <td>male</td>\n",
       "      <td>O6</td>\n",
       "    </tr>\n",
       "    <tr>\n",
       "      <th>181</th>\n",
       "      <td>206.0</td>\n",
       "      <td>male</td>\n",
       "      <td>O7</td>\n",
       "    </tr>\n",
       "    <tr>\n",
       "      <th>182</th>\n",
       "      <td>272.0</td>\n",
       "      <td>male</td>\n",
       "      <td>O6</td>\n",
       "    </tr>\n",
       "    <tr>\n",
       "      <th>183</th>\n",
       "      <td>383.0</td>\n",
       "      <td>male</td>\n",
       "      <td>O4</td>\n",
       "    </tr>\n",
       "    <tr>\n",
       "      <th>184</th>\n",
       "      <td>519.0</td>\n",
       "      <td>male</td>\n",
       "      <td>O2</td>\n",
       "    </tr>\n",
       "    <tr>\n",
       "      <th>185</th>\n",
       "      <td>391.0</td>\n",
       "      <td>male</td>\n",
       "      <td>O4</td>\n",
       "    </tr>\n",
       "    <tr>\n",
       "      <th>186</th>\n",
       "      <td>336.0</td>\n",
       "      <td>male</td>\n",
       "      <td>O5</td>\n",
       "    </tr>\n",
       "    <tr>\n",
       "      <th>187</th>\n",
       "      <td>485.0</td>\n",
       "      <td>male</td>\n",
       "      <td>O2</td>\n",
       "    </tr>\n",
       "    <tr>\n",
       "      <th>188</th>\n",
       "      <td>396.0</td>\n",
       "      <td>male</td>\n",
       "      <td>O4</td>\n",
       "    </tr>\n",
       "    <tr>\n",
       "      <th>189</th>\n",
       "      <td>218.0</td>\n",
       "      <td>male</td>\n",
       "      <td>O7</td>\n",
       "    </tr>\n",
       "    <tr>\n",
       "      <th>190</th>\n",
       "      <td>376.0</td>\n",
       "      <td>male</td>\n",
       "      <td>O4</td>\n",
       "    </tr>\n",
       "    <tr>\n",
       "      <th>191</th>\n",
       "      <td>286.0</td>\n",
       "      <td>male</td>\n",
       "      <td>O6</td>\n",
       "    </tr>\n",
       "    <tr>\n",
       "      <th>192</th>\n",
       "      <td>327.0</td>\n",
       "      <td>male</td>\n",
       "      <td>O5</td>\n",
       "    </tr>\n",
       "    <tr>\n",
       "      <th>193</th>\n",
       "      <td>407.0</td>\n",
       "      <td>male</td>\n",
       "      <td>O4</td>\n",
       "    </tr>\n",
       "    <tr>\n",
       "      <th>194</th>\n",
       "      <td>527.0</td>\n",
       "      <td>male</td>\n",
       "      <td>O2</td>\n",
       "    </tr>\n",
       "    <tr>\n",
       "      <th>195</th>\n",
       "      <td>337.0</td>\n",
       "      <td>male</td>\n",
       "      <td>O5</td>\n",
       "    </tr>\n",
       "    <tr>\n",
       "      <th>196</th>\n",
       "      <td>214.0</td>\n",
       "      <td>male</td>\n",
       "      <td>O7</td>\n",
       "    </tr>\n",
       "    <tr>\n",
       "      <th>197</th>\n",
       "      <td>271.0</td>\n",
       "      <td>male</td>\n",
       "      <td>O6</td>\n",
       "    </tr>\n",
       "    <tr>\n",
       "      <th>198</th>\n",
       "      <td>524.0</td>\n",
       "      <td>male</td>\n",
       "      <td>O2</td>\n",
       "    </tr>\n",
       "    <tr>\n",
       "      <th>199</th>\n",
       "      <td>415.0</td>\n",
       "      <td>male</td>\n",
       "      <td>O4</td>\n",
       "    </tr>\n",
       "  </tbody>\n",
       "</table>\n",
       "<p>200 rows × 3 columns</p>\n",
       "</div>"
      ],
      "text/plain": [
       "     Result  Gender Result_grade\n",
       "0     302.0  female           O5\n",
       "1     332.0  female           O5\n",
       "2     303.0  female           O5\n",
       "3     291.0  female           O6\n",
       "4     350.0  female           O5\n",
       "5     234.0  female           O7\n",
       "6     336.0  female           O5\n",
       "7     311.0  female           O5\n",
       "8     295.0  female           O6\n",
       "9     405.0  female           O4\n",
       "10    359.0  female           O5\n",
       "11    397.0  female           O4\n",
       "12    166.0  female           08\n",
       "13    335.0  female           O5\n",
       "14    411.0  female           O4\n",
       "15    397.0  female           O4\n",
       "16    433.0  female           O3\n",
       "17    446.0  female           O3\n",
       "18    383.0  female           O4\n",
       "19    600.0  female           O1\n",
       "20    217.0  female           O7\n",
       "21    341.0  female           O5\n",
       "22    394.0  female           O4\n",
       "23    595.0  female           O1\n",
       "24    355.0  female           O5\n",
       "25    473.0  female           O3\n",
       "26    357.0  female           O5\n",
       "27    580.0  female           O1\n",
       "28    358.0  female           O5\n",
       "29    527.0  female           O2\n",
       "..      ...     ...          ...\n",
       "170   382.0    male           O4\n",
       "171   353.0    male           O5\n",
       "172   557.0    male           O1\n",
       "173   379.0    male           O4\n",
       "174   352.0    male           O5\n",
       "175   252.0    male           O6\n",
       "176   349.0    male           O5\n",
       "177   330.0    male           O5\n",
       "178   173.0    male           08\n",
       "179   552.0    male           O1\n",
       "180   250.0    male           O6\n",
       "181   206.0    male           O7\n",
       "182   272.0    male           O6\n",
       "183   383.0    male           O4\n",
       "184   519.0    male           O2\n",
       "185   391.0    male           O4\n",
       "186   336.0    male           O5\n",
       "187   485.0    male           O2\n",
       "188   396.0    male           O4\n",
       "189   218.0    male           O7\n",
       "190   376.0    male           O4\n",
       "191   286.0    male           O6\n",
       "192   327.0    male           O5\n",
       "193   407.0    male           O4\n",
       "194   527.0    male           O2\n",
       "195   337.0    male           O5\n",
       "196   214.0    male           O7\n",
       "197   271.0    male           O6\n",
       "198   524.0    male           O2\n",
       "199   415.0    male           O4\n",
       "\n",
       "[200 rows x 3 columns]"
      ]
     },
     "execution_count": 81,
     "metadata": {},
     "output_type": "execute_result"
    }
   ],
   "source": [
    "# df has cols Result and Gender\n",
    "# Next at col Result_grade, contained in df2\n",
    "df = df.join(df2)\n",
    "df"
   ]
  },
  {
   "cell_type": "code",
   "execution_count": 82,
   "metadata": {
    "scrolled": true
   },
   "outputs": [
    {
     "data": {
      "text/plain": [
       "O4    27.5\n",
       "O5    24.5\n",
       "O3    12.5\n",
       "O6    11.5\n",
       "O2     9.5\n",
       "O7     6.0\n",
       "O1     5.5\n",
       "08     3.0\n",
       "Name: Result_grade, dtype: float64"
      ]
     },
     "execution_count": 82,
     "metadata": {},
     "output_type": "execute_result"
    }
   ],
   "source": [
    "sum_cats = df[\"Result_grade\"].value_counts()\n",
    "perc = sum_cats/200*100\n",
    "perc"
   ]
  },
  {
   "cell_type": "code",
   "execution_count": 83,
   "metadata": {
    "scrolled": true
   },
   "outputs": [
    {
     "data": {
      "text/plain": [
       "O5    27\n",
       "O4    26\n",
       "O3    17\n",
       "O2    12\n",
       "O1     6\n",
       "O6     6\n",
       "O7     4\n",
       "08     2\n",
       "Name: Result_grade, dtype: int64"
      ]
     },
     "execution_count": 83,
     "metadata": {},
     "output_type": "execute_result"
    }
   ],
   "source": [
    "# Taking girls in simulated data, count each grade\n",
    "girls = df.loc[0:99]\n",
    "sum_girls = girls[\"Result_grade\"].value_counts()\n",
    "# As I have 100 data points, my sum is equal to my percentage\n",
    "sum_girls"
   ]
  },
  {
   "cell_type": "code",
   "execution_count": 84,
   "metadata": {
    "scrolled": true
   },
   "outputs": [
    {
     "data": {
      "text/plain": [
       "O4    29\n",
       "O5    22\n",
       "O6    17\n",
       "O3     8\n",
       "O7     8\n",
       "O2     7\n",
       "O1     5\n",
       "08     4\n",
       "Name: Result_grade, dtype: int64"
      ]
     },
     "execution_count": 84,
     "metadata": {},
     "output_type": "execute_result"
    }
   ],
   "source": [
    "# Taking boys in simulated data, count each grade\n",
    "boys = df.loc[100:199]\n",
    "sum_boys = boys[\"Result_grade\"].value_counts()\n",
    "# As I have 100 data points, my sum is equal to my percentage\n",
    "sum_boys"
   ]
  },
  {
   "cell_type": "markdown",
   "metadata": {},
   "source": [
    "#### Evaluation\n",
    "\n",
    "- I initially simulated my female data with a mean of 340 and standard deviation of 100. My male data was simulated with a mean of 315 and the same standard deviation. I ran this simulation several times, and found that my total results showed higher rates of failure and smaller numbers of students achieving the top grades of O1 and O2. Looking at male and female candidates separately I found that both data sets had similar discrepancies. \n",
    "- Attempts to adjust this with a higher mean, lead to too many students getting the highest grade O1, while the other grades were more in line with my research."
   ]
  },
  {
   "cell_type": "markdown",
   "metadata": {},
   "source": [
    "## References"
   ]
  },
  {
   "cell_type": "markdown",
   "metadata": {},
   "source": [
    "* [State Examinations Commission - Annual Exams Statistics](https://www.examinations.ie/statistics/?l=en&mc=st&sc=r11)"
   ]
  },
  {
   "cell_type": "code",
   "execution_count": null,
   "metadata": {},
   "outputs": [],
   "source": []
  }
 ],
 "metadata": {
  "kernelspec": {
   "display_name": "Python 3",
   "language": "python",
   "name": "python3"
  },
  "language_info": {
   "codemirror_mode": {
    "name": "ipython",
    "version": 3
   },
   "file_extension": ".py",
   "mimetype": "text/x-python",
   "name": "python",
   "nbconvert_exporter": "python",
   "pygments_lexer": "ipython3",
   "version": "3.6.5"
  }
 },
 "nbformat": 4,
 "nbformat_minor": 2
}
